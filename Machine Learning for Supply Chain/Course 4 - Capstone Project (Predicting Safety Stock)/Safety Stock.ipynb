{
 "cells": [
  {
   "cell_type": "markdown",
   "id": "cce6d4f8",
   "metadata": {},
   "source": [
    "## Analyzing Dataset\n",
    "\n",
    "In this notebook, we'll do some preliminary analysis of the data by grouping."
   ]
  },
  {
   "cell_type": "code",
   "execution_count": 8,
   "id": "b75e1363",
   "metadata": {
    "ExecuteTime": {
     "end_time": "2023-05-26T14:06:56.791321Z",
     "start_time": "2023-05-26T14:06:56.769256Z"
    }
   },
   "outputs": [],
   "source": [
    "### Loading in libraries.\n",
    "\n",
    "import pandas as pd\n",
    "import numpy as np"
   ]
  },
  {
   "cell_type": "code",
   "execution_count": 9,
   "id": "1fb0628f",
   "metadata": {
    "ExecuteTime": {
     "end_time": "2023-05-26T14:06:57.016448Z",
     "start_time": "2023-05-26T14:06:56.801740Z"
    }
   },
   "outputs": [
    {
     "data": {
      "text/html": [
       "<div>\n",
       "<style scoped>\n",
       "    .dataframe tbody tr th:only-of-type {\n",
       "        vertical-align: middle;\n",
       "    }\n",
       "\n",
       "    .dataframe tbody tr th {\n",
       "        vertical-align: top;\n",
       "    }\n",
       "\n",
       "    .dataframe thead th {\n",
       "        text-align: right;\n",
       "    }\n",
       "</style>\n",
       "<table border=\"1\" class=\"dataframe\">\n",
       "  <thead>\n",
       "    <tr style=\"text-align: right;\">\n",
       "      <th></th>\n",
       "      <th>InvoiceNo</th>\n",
       "      <th>Date</th>\n",
       "      <th>Country</th>\n",
       "      <th>ProductID</th>\n",
       "      <th>Shop</th>\n",
       "      <th>Gender</th>\n",
       "      <th>Size (US)</th>\n",
       "      <th>Size (Europe)</th>\n",
       "      <th>Size (UK)</th>\n",
       "      <th>UnitPrice</th>\n",
       "      <th>Discount</th>\n",
       "      <th>Year</th>\n",
       "      <th>Month</th>\n",
       "      <th>SalePrice</th>\n",
       "    </tr>\n",
       "  </thead>\n",
       "  <tbody>\n",
       "    <tr>\n",
       "      <th>0</th>\n",
       "      <td>52389</td>\n",
       "      <td>1/1/2014</td>\n",
       "      <td>United Kingdom</td>\n",
       "      <td>2152</td>\n",
       "      <td>UK2</td>\n",
       "      <td>Male</td>\n",
       "      <td>11.0</td>\n",
       "      <td>44</td>\n",
       "      <td>10.5</td>\n",
       "      <td>159</td>\n",
       "      <td>0.0</td>\n",
       "      <td>2014</td>\n",
       "      <td>1</td>\n",
       "      <td>159.0</td>\n",
       "    </tr>\n",
       "    <tr>\n",
       "      <th>1</th>\n",
       "      <td>52390</td>\n",
       "      <td>1/1/2014</td>\n",
       "      <td>United States</td>\n",
       "      <td>2230</td>\n",
       "      <td>US15</td>\n",
       "      <td>Male</td>\n",
       "      <td>11.5</td>\n",
       "      <td>44-45</td>\n",
       "      <td>11.0</td>\n",
       "      <td>199</td>\n",
       "      <td>0.2</td>\n",
       "      <td>2014</td>\n",
       "      <td>1</td>\n",
       "      <td>159.2</td>\n",
       "    </tr>\n",
       "    <tr>\n",
       "      <th>2</th>\n",
       "      <td>52391</td>\n",
       "      <td>1/1/2014</td>\n",
       "      <td>Canada</td>\n",
       "      <td>2160</td>\n",
       "      <td>CAN7</td>\n",
       "      <td>Male</td>\n",
       "      <td>9.5</td>\n",
       "      <td>42-43</td>\n",
       "      <td>9.0</td>\n",
       "      <td>149</td>\n",
       "      <td>0.2</td>\n",
       "      <td>2014</td>\n",
       "      <td>1</td>\n",
       "      <td>119.2</td>\n",
       "    </tr>\n",
       "    <tr>\n",
       "      <th>3</th>\n",
       "      <td>52392</td>\n",
       "      <td>1/1/2014</td>\n",
       "      <td>United States</td>\n",
       "      <td>2234</td>\n",
       "      <td>US6</td>\n",
       "      <td>Female</td>\n",
       "      <td>9.5</td>\n",
       "      <td>40</td>\n",
       "      <td>7.5</td>\n",
       "      <td>159</td>\n",
       "      <td>0.0</td>\n",
       "      <td>2014</td>\n",
       "      <td>1</td>\n",
       "      <td>159.0</td>\n",
       "    </tr>\n",
       "    <tr>\n",
       "      <th>4</th>\n",
       "      <td>52393</td>\n",
       "      <td>1/1/2014</td>\n",
       "      <td>United Kingdom</td>\n",
       "      <td>2222</td>\n",
       "      <td>UK4</td>\n",
       "      <td>Female</td>\n",
       "      <td>9.0</td>\n",
       "      <td>39-40</td>\n",
       "      <td>7.0</td>\n",
       "      <td>159</td>\n",
       "      <td>0.0</td>\n",
       "      <td>2014</td>\n",
       "      <td>1</td>\n",
       "      <td>159.0</td>\n",
       "    </tr>\n",
       "  </tbody>\n",
       "</table>\n",
       "</div>"
      ],
      "text/plain": [
       "   InvoiceNo      Date         Country  ProductID  Shop  Gender  Size (US)  \\\n",
       "0      52389  1/1/2014  United Kingdom       2152   UK2    Male       11.0   \n",
       "1      52390  1/1/2014   United States       2230  US15    Male       11.5   \n",
       "2      52391  1/1/2014          Canada       2160  CAN7    Male        9.5   \n",
       "3      52392  1/1/2014   United States       2234   US6  Female        9.5   \n",
       "4      52393  1/1/2014  United Kingdom       2222   UK4  Female        9.0   \n",
       "\n",
       "  Size (Europe)  Size (UK)  UnitPrice  Discount  Year  Month  SalePrice  \n",
       "0            44       10.5        159       0.0  2014      1      159.0  \n",
       "1         44-45       11.0        199       0.2  2014      1      159.2  \n",
       "2         42-43        9.0        149       0.2  2014      1      119.2  \n",
       "3            40        7.5        159       0.0  2014      1      159.0  \n",
       "4         39-40        7.0        159       0.0  2014      1      159.0  "
      ]
     },
     "execution_count": 9,
     "metadata": {},
     "output_type": "execute_result"
    }
   ],
   "source": [
    "### In this cell, we load in sales data into a dataframe called 'df'.\n",
    "\n",
    "df = pd.read_csv(\"sales_data.csv\")\n",
    "df.head()"
   ]
  },
  {
   "cell_type": "code",
   "execution_count": 10,
   "id": "645014bf",
   "metadata": {
    "ExecuteTime": {
     "end_time": "2023-05-26T14:06:57.052581Z",
     "start_time": "2023-05-26T14:06:57.024124Z"
    }
   },
   "outputs": [],
   "source": [
    "## Let's explore the shape of the dataset.\n",
    "## Store the shape of the dataset in a variable called 'shape'.\n",
    "## Find the distribution of males and females. Store the percentage of males in a variable called 'percent_male'.\n",
    "## Store the average size (UK) in a variable called 'avg_size'.\n",
    "\n",
    "# your code here\n",
    "shape = df.shape\n",
    "num_males = df['Gender'].value_counts()['Male']\n",
    "percent_male = num_males / len(df)\n",
    "avg_size = df['Size (UK)'].mean()"
   ]
  },
  {
   "cell_type": "code",
   "execution_count": 11,
   "id": "d5aa0c3b",
   "metadata": {
    "ExecuteTime": {
     "end_time": "2023-05-26T14:06:57.099171Z",
     "start_time": "2023-05-26T14:06:57.062947Z"
    }
   },
   "outputs": [
    {
     "data": {
      "text/plain": [
       "Month\n",
       "1     143.790226\n",
       "2     142.861640\n",
       "3     144.919760\n",
       "4     143.130911\n",
       "5     144.666213\n",
       "6     145.582259\n",
       "7     143.710545\n",
       "8     143.092032\n",
       "9     144.388671\n",
       "10    144.702695\n",
       "11    143.296794\n",
       "12    143.312195\n",
       "Name: SalePrice, dtype: float64"
      ]
     },
     "execution_count": 11,
     "metadata": {},
     "output_type": "execute_result"
    }
   ],
   "source": [
    "## Let's find the average sales in each month.\n",
    "## Store the average sales per month in a list called 'monthly_average_sales'.\n",
    "\n",
    "# your code here\n",
    "monthly_average_sales = df.groupby('Month')['SalePrice'].mean()\n",
    "monthly_average_sales"
   ]
  },
  {
   "cell_type": "code",
   "execution_count": 12,
   "id": "8fb63491",
   "metadata": {
    "ExecuteTime": {
     "end_time": "2023-05-26T14:06:57.174196Z",
     "start_time": "2023-05-26T14:06:57.107614Z"
    }
   },
   "outputs": [],
   "source": [
    "## Let's compare the products sold per shop. \n",
    "## Find a 'ProductID' that is sold in the UK but not in Canada. Store it in a variable called 'uk_not_canada'.\n",
    "## Find a 'ProductID' that is sold in the US but not in UK. Store it in a variable called 'us_not_uk'.\n",
    "## Which store has the highest average sale price? Store it in a variable called 'highest_price'.\n",
    "\n",
    "\n",
    "# your code here\n",
    "\n",
    "df_uk = df[df.Shop == 'UK2']\n",
    "uk_list = np.unique(df_uk.ProductID)\n",
    "\n",
    "df_us = df[df.Shop == 'US15']\n",
    "us_list = np.unique(df_us.ProductID)\n",
    "\n",
    "df_canada = df[df.Shop == 'CAN7']\n",
    "canada_list = np.unique(df_canada.ProductID)\n",
    "\n",
    "for i in us_list:\n",
    "    if i not in uk_list:\n",
    "        us_not_uk = i\n",
    "        break\n",
    "\n",
    "for i in uk_list:\n",
    "    if i not in canada_list:\n",
    "        uk_not_canada = i    \n",
    "        \n",
    "np.argmax(df.groupby('Shop')['SalePrice'].mean())\n",
    "highest_price = df.groupby('Shop')['SalePrice'].mean().index[26]"
   ]
  },
  {
   "cell_type": "markdown",
   "id": "addb79d1",
   "metadata": {},
   "source": [
    "###  SARIMA Model Predictions\n",
    "we'll do some further exploration on the dataset, then use a SARIMA model to make predictions."
   ]
  },
  {
   "cell_type": "code",
   "execution_count": 13,
   "id": "044c4222",
   "metadata": {
    "ExecuteTime": {
     "end_time": "2023-05-26T14:06:57.233824Z",
     "start_time": "2023-05-26T14:06:57.186099Z"
    }
   },
   "outputs": [],
   "source": [
    "## Convert the 'Date' column to a pandas timeseries. Make this the index of the dataframe.\n",
    "\n",
    "# your code here\n",
    "df.Date = pd.to_datetime(df['Date'])\n",
    "df.set_index('Date', inplace=True)"
   ]
  },
  {
   "cell_type": "code",
   "execution_count": 14,
   "id": "1387a6f1",
   "metadata": {
    "ExecuteTime": {
     "end_time": "2023-05-26T14:06:59.833717Z",
     "start_time": "2023-05-26T14:06:57.244860Z"
    }
   },
   "outputs": [
    {
     "name": "stderr",
     "output_type": "stream",
     "text": [
      "C:\\Users\\kamal\\AppData\\Local\\Temp\\ipykernel_6428\\3268010604.py:11: FutureWarning: The default value of numeric_only in DataFrameGroupBy.sum is deprecated. In a future version, numeric_only will default to False. Either specify numeric_only or select only columns which should be valid for the function.\n",
      "  sales = df.groupby('month_year').sum()['SalePrice']\n",
      "C:\\Users\\kamal\\anaconda3\\anaconda-py\\envs\\data-science\\lib\\site-packages\\statsmodels\\tsa\\base\\tsa_model.py:471: ValueWarning: An unsupported index was provided and will be ignored when e.g. forecasting.\n",
      "  self._init_dates(dates, freq)\n",
      "C:\\Users\\kamal\\anaconda3\\anaconda-py\\envs\\data-science\\lib\\site-packages\\statsmodels\\tsa\\base\\tsa_model.py:471: ValueWarning: An unsupported index was provided and will be ignored when e.g. forecasting.\n",
      "  self._init_dates(dates, freq)\n",
      "C:\\Users\\kamal\\anaconda3\\anaconda-py\\envs\\data-science\\lib\\site-packages\\statsmodels\\tsa\\base\\tsa_model.py:834: ValueWarning: No supported index is available. Prediction results will be given with an integer index beginning at `start`.\n",
      "  return get_prediction_index(\n"
     ]
    }
   ],
   "source": [
    "## Implement a SARIMA prediction model to forecast the total amount of sales in the first month of 2017.\n",
    "## Store the result in a vaiable called 'forecasted_sales'\n",
    "## Hint: Group by month first and then apply the prediction model.\n",
    "\n",
    "\n",
    "# your code here\n",
    "# your code here\n",
    "df['month_year'] = list(zip(df.Month, df.Year))\n",
    "sales = df.groupby('month_year').sum()['SalePrice']\n",
    "\n",
    "from statsmodels.tsa.statespace.sarimax import SARIMAX\n",
    "model = SARIMAX(endog= sales)\n",
    "results = model.fit()\n",
    "forecasted_sales = results.predict(start = len(sales), dynamic= True).iloc[0]"
   ]
  },
  {
   "cell_type": "code",
   "execution_count": 15,
   "id": "2afa4759",
   "metadata": {
    "ExecuteTime": {
     "end_time": "2023-05-26T14:07:10.374629Z",
     "start_time": "2023-05-26T14:07:10.196212Z"
    }
   },
   "outputs": [],
   "source": [
    "## Let's analyze some of the statistics of the SARIMA prediction.\n",
    "## What is the dependent variable? Store the result in a variable called 'dep_variable'.\n",
    "## How many observations are there? Store the result in a variable called 'num_obs'.\n",
    "## Finally, what is the coef? Store the result in a variable called 'coef'.\n",
    "\n",
    "# your code here\n",
    "results.summary()\n",
    "dep_variable = 'SalePrice'\n",
    "num_obs=36\n",
    "coef = 0.7968"
   ]
  },
  {
   "cell_type": "code",
   "execution_count": null,
   "id": "aa0fdb7e",
   "metadata": {},
   "outputs": [],
   "source": []
  }
 ],
 "metadata": {
  "kernelspec": {
   "display_name": "Python 3 (ipykernel)",
   "language": "python",
   "name": "python3"
  },
  "language_info": {
   "codemirror_mode": {
    "name": "ipython",
    "version": 3
   },
   "file_extension": ".py",
   "mimetype": "text/x-python",
   "name": "python",
   "nbconvert_exporter": "python",
   "pygments_lexer": "ipython3",
   "version": "3.8.16"
  },
  "toc": {
   "base_numbering": 1,
   "nav_menu": {},
   "number_sections": true,
   "sideBar": true,
   "skip_h1_title": false,
   "title_cell": "Table of Contents",
   "title_sidebar": "Contents",
   "toc_cell": false,
   "toc_position": {},
   "toc_section_display": true,
   "toc_window_display": false
  }
 },
 "nbformat": 4,
 "nbformat_minor": 5
}
