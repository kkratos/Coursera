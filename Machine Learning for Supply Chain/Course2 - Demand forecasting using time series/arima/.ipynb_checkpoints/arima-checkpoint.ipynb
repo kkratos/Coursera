{
 "cells": [
  {
   "cell_type": "markdown",
   "metadata": {},
   "source": [
    "- Autoregressive Integrated Moving Average Model\n",
    "- Can be used with non-stationary data - does not have same mean and variance\n",
    "- stationary data remain same over with with regard to mean and variance\n",
    "- evolved form of lagged regression\n",
    "- predictable sub-process\n",
    "\n",
    "1. Autoregression\n",
    "2. Integrated\n",
    "3. Moving Average \n",
    "\n",
    "Autoregressive Models in Deep Learning — A Brief Survey\n",
    "https://www.georgeho.org/deep-autoregressive-models/"
   ]
  },
  {
   "cell_type": "markdown",
   "metadata": {
    "deletable": false,
    "editable": false,
    "nbgrader": {
     "cell_type": "markdown",
     "checksum": "220ce6bbcd1246202a181cf2ce088bcb",
     "grade": false,
     "grade_id": "cell-d2ca30b2a7fecd4e",
     "locked": true,
     "schema_version": 3,
     "solution": false,
     "task": false
    }
   },
   "source": [
    "## Implementing an ARIMA Model in Python\n",
    "\n",
    "In this notebook, we'll use an arima model to make predict gdp levels in future years.\n"
   ]
  },
  {
   "cell_type": "code",
   "execution_count": 4,
   "metadata": {
    "ExecuteTime": {
     "end_time": "2023-04-14T22:51:40.238168Z",
     "start_time": "2023-04-14T22:51:40.217132Z"
    },
    "deletable": false,
    "editable": false,
    "nbgrader": {
     "cell_type": "code",
     "checksum": "c7e5982e65f6b685ed17d9660c9a2bb1",
     "grade": false,
     "grade_id": "cell-ec9eea049f88211e",
     "locked": true,
     "schema_version": 3,
     "solution": false,
     "task": false
    }
   },
   "outputs": [
    {
     "data": {
      "text/html": [
       "<div>\n",
       "<style scoped>\n",
       "    .dataframe tbody tr th:only-of-type {\n",
       "        vertical-align: middle;\n",
       "    }\n",
       "\n",
       "    .dataframe tbody tr th {\n",
       "        vertical-align: top;\n",
       "    }\n",
       "\n",
       "    .dataframe thead th {\n",
       "        text-align: right;\n",
       "    }\n",
       "</style>\n",
       "<table border=\"1\" class=\"dataframe\">\n",
       "  <thead>\n",
       "    <tr style=\"text-align: right;\">\n",
       "      <th></th>\n",
       "      <th>date</th>\n",
       "      <th>level-current</th>\n",
       "      <th>level-chained</th>\n",
       "      <th>change-current</th>\n",
       "      <th>change-chained</th>\n",
       "    </tr>\n",
       "  </thead>\n",
       "  <tbody>\n",
       "    <tr>\n",
       "      <th>0</th>\n",
       "      <td>1947-04-01</td>\n",
       "      <td>246.3</td>\n",
       "      <td>1932.3</td>\n",
       "      <td>6.4</td>\n",
       "      <td>-0.4</td>\n",
       "    </tr>\n",
       "    <tr>\n",
       "      <th>1</th>\n",
       "      <td>1947-07-01</td>\n",
       "      <td>250.1</td>\n",
       "      <td>1930.3</td>\n",
       "      <td>17.3</td>\n",
       "      <td>6.4</td>\n",
       "    </tr>\n",
       "    <tr>\n",
       "      <th>2</th>\n",
       "      <td>1947-10-01</td>\n",
       "      <td>260.3</td>\n",
       "      <td>1960.7</td>\n",
       "      <td>9.3</td>\n",
       "      <td>6.0</td>\n",
       "    </tr>\n",
       "    <tr>\n",
       "      <th>3</th>\n",
       "      <td>1948-01-01</td>\n",
       "      <td>266.2</td>\n",
       "      <td>1989.5</td>\n",
       "      <td>10.5</td>\n",
       "      <td>6.7</td>\n",
       "    </tr>\n",
       "    <tr>\n",
       "      <th>4</th>\n",
       "      <td>1948-04-01</td>\n",
       "      <td>272.9</td>\n",
       "      <td>2021.9</td>\n",
       "      <td>10.0</td>\n",
       "      <td>2.3</td>\n",
       "    </tr>\n",
       "  </tbody>\n",
       "</table>\n",
       "</div>"
      ],
      "text/plain": [
       "         date  level-current  level-chained  change-current  change-chained\n",
       "0  1947-04-01          246.3         1932.3             6.4            -0.4\n",
       "1  1947-07-01          250.1         1930.3            17.3             6.4\n",
       "2  1947-10-01          260.3         1960.7             9.3             6.0\n",
       "3  1948-01-01          266.2         1989.5            10.5             6.7\n",
       "4  1948-04-01          272.9         2021.9            10.0             2.3"
      ]
     },
     "execution_count": 4,
     "metadata": {},
     "output_type": "execute_result"
    }
   ],
   "source": [
    "### Import libraries and load in data into a dataframe called 'df'.\n",
    "### This dataset gives US GDP levels from 1947-2017. \n",
    "### In this assignment, our goal is to predict future levels (2018+)\n",
    "\n",
    "import pandas as pd\n",
    "import numpy as np\n",
    "\n",
    "df = pd.read_csv('quarter.csv')\n",
    "df.head()"
   ]
  },
  {
   "cell_type": "code",
   "execution_count": 5,
   "metadata": {
    "ExecuteTime": {
     "end_time": "2023-04-14T22:51:40.916595Z",
     "start_time": "2023-04-14T22:51:40.898600Z"
    },
    "deletable": false,
    "nbgrader": {
     "cell_type": "code",
     "checksum": "80bd3190e656e4422cbab212e94cecaa",
     "grade": false,
     "grade_id": "cell-aa95ba5c4ceb9ff7",
     "locked": false,
     "schema_version": 3,
     "solution": true,
     "task": false
    }
   },
   "outputs": [
    {
     "data": {
      "text/html": [
       "<div>\n",
       "<style scoped>\n",
       "    .dataframe tbody tr th:only-of-type {\n",
       "        vertical-align: middle;\n",
       "    }\n",
       "\n",
       "    .dataframe tbody tr th {\n",
       "        vertical-align: top;\n",
       "    }\n",
       "\n",
       "    .dataframe thead th {\n",
       "        text-align: right;\n",
       "    }\n",
       "</style>\n",
       "<table border=\"1\" class=\"dataframe\">\n",
       "  <thead>\n",
       "    <tr style=\"text-align: right;\">\n",
       "      <th></th>\n",
       "      <th>date</th>\n",
       "      <th>level-current</th>\n",
       "    </tr>\n",
       "  </thead>\n",
       "  <tbody>\n",
       "    <tr>\n",
       "      <th>0</th>\n",
       "      <td>1947-04-01</td>\n",
       "      <td>246.3</td>\n",
       "    </tr>\n",
       "    <tr>\n",
       "      <th>1</th>\n",
       "      <td>1947-07-01</td>\n",
       "      <td>250.1</td>\n",
       "    </tr>\n",
       "    <tr>\n",
       "      <th>2</th>\n",
       "      <td>1947-10-01</td>\n",
       "      <td>260.3</td>\n",
       "    </tr>\n",
       "    <tr>\n",
       "      <th>3</th>\n",
       "      <td>1948-01-01</td>\n",
       "      <td>266.2</td>\n",
       "    </tr>\n",
       "    <tr>\n",
       "      <th>4</th>\n",
       "      <td>1948-04-01</td>\n",
       "      <td>272.9</td>\n",
       "    </tr>\n",
       "  </tbody>\n",
       "</table>\n",
       "</div>"
      ],
      "text/plain": [
       "        date  level-current\n",
       "0 1947-04-01          246.3\n",
       "1 1947-07-01          250.1\n",
       "2 1947-10-01          260.3\n",
       "3 1948-01-01          266.2\n",
       "4 1948-04-01          272.9"
      ]
     },
     "execution_count": 5,
     "metadata": {},
     "output_type": "execute_result"
    }
   ],
   "source": [
    "## Part A (30 pts)\n",
    "\n",
    "''' \n",
    "i) Convert the values in the 'date' column into datetime objects. Set the index of the dataframe to the 'date' column. \n",
    "\n",
    "ii) Delete all columns except for 'level-current', making sure the data is still in a DataFrame format instead of a series.\n",
    "\n",
    "Both i-ii should be done in place to the 'df' dataframe.\n",
    "'''\n",
    "\n",
    "# your code here\n",
    "df['date'] = pd.to_datetime(df.date)\n",
    "df.drop(columns=['level-chained', 'change-current', 'change-chained'], inplace=True)\n",
    "df.head()"
   ]
  },
  {
   "cell_type": "code",
   "execution_count": null,
   "metadata": {
    "deletable": false,
    "editable": false,
    "nbgrader": {
     "cell_type": "code",
     "checksum": "c6b11ec3115aac1c562ef308605341e2",
     "grade": true,
     "grade_id": "cell-d3a5d5c916696227",
     "locked": true,
     "points": 30,
     "schema_version": 3,
     "solution": false,
     "task": false
    }
   },
   "outputs": [],
   "source": []
  },
  {
   "cell_type": "code",
   "execution_count": 13,
   "metadata": {
    "ExecuteTime": {
     "end_time": "2023-04-15T14:08:06.562611Z",
     "start_time": "2023-04-15T14:08:06.302404Z"
    },
    "deletable": false,
    "nbgrader": {
     "cell_type": "code",
     "checksum": "9c594a42dbfe2d2706cc6c1bc2dc791d",
     "grade": false,
     "grade_id": "cell-b4462273817f7e75",
     "locked": false,
     "schema_version": 3,
     "solution": true,
     "task": false
    }
   },
   "outputs": [
    {
     "ename": "ValueError",
     "evalue": "Pandas data cast to numpy dtype of object. Check input data with np.asarray(data). The types seen weredate             datetime64[ns]\nlevel-current           float64\ndtype: object and None. The data was\n          date  level-current\n0   1947-04-01          246.3\n1   1947-07-01          250.1\n2   1947-10-01          260.3\n3   1948-01-01          266.2\n4   1948-04-01          272.9\n..         ...            ...\n276 2016-04-01        18538.0\n277 2016-07-01        18729.1\n278 2016-10-01        18905.5\n279 2017-01-01        19057.7\n280 2017-04-01        19250.0\n\n[281 rows x 2 columns]\nand\n None\nbefore. After,\n[[Timestamp('1947-04-01 00:00:00') 246.3]\n [Timestamp('1947-07-01 00:00:00') 250.1]\n [Timestamp('1947-10-01 00:00:00') 260.3]\n [Timestamp('1948-01-01 00:00:00') 266.2]\n [Timestamp('1948-04-01 00:00:00') 272.9]\n [Timestamp('1948-07-01 00:00:00') 279.5]\n [Timestamp('1948-10-01 00:00:00') 280.7]\n [Timestamp('1949-01-01 00:00:00') 275.4]\n [Timestamp('1949-04-01 00:00:00') 271.7]\n [Timestamp('1949-07-01 00:00:00') 273.3]\n [Timestamp('1949-10-01 00:00:00') 271.0]\n [Timestamp('1950-01-01 00:00:00') 281.2]\n [Timestamp('1950-04-01 00:00:00') 290.7]\n [Timestamp('1950-07-01 00:00:00') 308.5]\n [Timestamp('1950-10-01 00:00:00') 320.3]\n [Timestamp('1951-01-01 00:00:00') 336.4]\n [Timestamp('1951-04-01 00:00:00') 344.5]\n [Timestamp('1951-07-01 00:00:00') 351.8]\n [Timestamp('1951-10-01 00:00:00') 356.6]\n [Timestamp('1952-01-01 00:00:00') 360.2]\n [Timestamp('1952-04-01 00:00:00') 361.4]\n [Timestamp('1952-07-01 00:00:00') 368.1]\n [Timestamp('1952-10-01 00:00:00') 381.2]\n [Timestamp('1953-01-01 00:00:00') 388.5]\n [Timestamp('1953-04-01 00:00:00') 392.3]\n [Timestamp('1953-07-01 00:00:00') 391.7]\n [Timestamp('1953-10-01 00:00:00') 386.5]\n [Timestamp('1954-01-01 00:00:00') 385.9]\n [Timestamp('1954-04-01 00:00:00') 386.7]\n [Timestamp('1954-07-01 00:00:00') 391.6]\n [Timestamp('1954-10-01 00:00:00') 400.3]\n [Timestamp('1955-01-01 00:00:00') 413.8]\n [Timestamp('1955-04-01 00:00:00') 422.2]\n [Timestamp('1955-07-01 00:00:00') 430.9]\n [Timestamp('1955-10-01 00:00:00') 437.8]\n [Timestamp('1956-01-01 00:00:00') 440.5]\n [Timestamp('1956-04-01 00:00:00') 446.8]\n [Timestamp('1956-07-01 00:00:00') 452.0]\n [Timestamp('1956-10-01 00:00:00') 461.3]\n [Timestamp('1957-01-01 00:00:00') 470.6]\n [Timestamp('1957-04-01 00:00:00') 472.8]\n [Timestamp('1957-07-01 00:00:00') 480.3]\n [Timestamp('1957-10-01 00:00:00') 475.7]\n [Timestamp('1958-01-01 00:00:00') 468.4]\n [Timestamp('1958-04-01 00:00:00') 472.8]\n [Timestamp('1958-07-01 00:00:00') 486.7]\n [Timestamp('1958-10-01 00:00:00') 500.4]\n [Timestamp('1959-01-01 00:00:00') 511.1]\n [Timestamp('1959-04-01 00:00:00') 524.2]\n [Timestamp('1959-07-01 00:00:00') 525.2]\n [Timestamp('1959-10-01 00:00:00') 529.3]\n [Timestamp('1960-01-01 00:00:00') 543.3]\n [Timestamp('1960-04-01 00:00:00') 542.7]\n [Timestamp('1960-07-01 00:00:00') 546.0]\n [Timestamp('1960-10-01 00:00:00') 541.1]\n [Timestamp('1961-01-01 00:00:00') 545.9]\n [Timestamp('1961-04-01 00:00:00') 557.4]\n [Timestamp('1961-07-01 00:00:00') 568.2]\n [Timestamp('1961-10-01 00:00:00') 581.6]\n [Timestamp('1962-01-01 00:00:00') 595.2]\n [Timestamp('1962-04-01 00:00:00') 602.6]\n [Timestamp('1962-07-01 00:00:00') 609.6]\n [Timestamp('1962-10-01 00:00:00') 613.1]\n [Timestamp('1963-01-01 00:00:00') 622.7]\n [Timestamp('1963-04-01 00:00:00') 631.8]\n [Timestamp('1963-07-01 00:00:00') 645.0]\n [Timestamp('1963-10-01 00:00:00') 654.8]\n [Timestamp('1964-01-01 00:00:00') 671.1]\n [Timestamp('1964-04-01 00:00:00') 680.8]\n [Timestamp('1964-07-01 00:00:00') 692.8]\n [Timestamp('1964-10-01 00:00:00') 698.4]\n [Timestamp('1965-01-01 00:00:00') 719.2]\n [Timestamp('1965-04-01 00:00:00') 732.4]\n [Timestamp('1965-07-01 00:00:00') 750.2]\n [Timestamp('1965-10-01 00:00:00') 773.1]\n [Timestamp('1966-01-01 00:00:00') 797.3]\n [Timestamp('1966-04-01 00:00:00') 807.2]\n [Timestamp('1966-07-01 00:00:00') 820.8]\n [Timestamp('1966-10-01 00:00:00') 834.9]\n [Timestamp('1967-01-01 00:00:00') 846.0]\n [Timestamp('1967-04-01 00:00:00') 851.1]\n [Timestamp('1967-07-01 00:00:00') 866.6]\n [Timestamp('1967-10-01 00:00:00') 883.2]\n [Timestamp('1968-01-01 00:00:00') 911.1]\n [Timestamp('1968-04-01 00:00:00') 936.3]\n [Timestamp('1968-07-01 00:00:00') 952.3]\n [Timestamp('1968-10-01 00:00:00') 970.1]\n [Timestamp('1969-01-01 00:00:00') 995.4]\n [Timestamp('1969-04-01 00:00:00') 1011.4]\n [Timestamp('1969-07-01 00:00:00') 1032.0]\n [Timestamp('1969-10-01 00:00:00') 1040.7]\n [Timestamp('1970-01-01 00:00:00') 1053.5]\n [Timestamp('1970-04-01 00:00:00') 1070.1]\n [Timestamp('1970-07-01 00:00:00') 1088.5]\n [Timestamp('1970-10-01 00:00:00') 1091.5]\n [Timestamp('1971-01-01 00:00:00') 1137.8]\n [Timestamp('1971-04-01 00:00:00') 1159.4]\n [Timestamp('1971-07-01 00:00:00') 1180.3]\n [Timestamp('1971-10-01 00:00:00') 1193.6]\n [Timestamp('1972-01-01 00:00:00') 1233.8]\n [Timestamp('1972-04-01 00:00:00') 1270.1]\n [Timestamp('1972-07-01 00:00:00') 1293.8]\n [Timestamp('1972-10-01 00:00:00') 1332.0]\n [Timestamp('1973-01-01 00:00:00') 1380.7]\n [Timestamp('1973-04-01 00:00:00') 1417.6]\n [Timestamp('1973-07-01 00:00:00') 1436.8]\n [Timestamp('1973-10-01 00:00:00') 1479.1]\n [Timestamp('1974-01-01 00:00:00') 1494.7]\n [Timestamp('1974-04-01 00:00:00') 1534.2]\n [Timestamp('1974-07-01 00:00:00') 1563.4]\n [Timestamp('1974-10-01 00:00:00') 1603.0]\n [Timestamp('1975-01-01 00:00:00') 1619.6]\n [Timestamp('1975-04-01 00:00:00') 1656.4]\n [Timestamp('1975-07-01 00:00:00') 1713.8]\n [Timestamp('1975-10-01 00:00:00') 1765.9]\n [Timestamp('1976-01-01 00:00:00') 1824.5]\n [Timestamp('1976-04-01 00:00:00') 1856.9]\n [Timestamp('1976-07-01 00:00:00') 1890.5]\n [Timestamp('1976-10-01 00:00:00') 1938.4]\n [Timestamp('1977-01-01 00:00:00') 1992.5]\n [Timestamp('1977-04-01 00:00:00') 2060.2]\n [Timestamp('1977-07-01 00:00:00') 2122.4]\n [Timestamp('1977-10-01 00:00:00') 2168.7]\n [Timestamp('1978-01-01 00:00:00') 2208.7]\n [Timestamp('1978-04-01 00:00:00') 2336.6]\n [Timestamp('1978-07-01 00:00:00') 2398.9]\n [Timestamp('1978-10-01 00:00:00') 2482.2]\n [Timestamp('1979-01-01 00:00:00') 2531.6]\n [Timestamp('1979-04-01 00:00:00') 2595.9]\n [Timestamp('1979-07-01 00:00:00') 2670.4]\n [Timestamp('1979-10-01 00:00:00') 2730.7]\n [Timestamp('1980-01-01 00:00:00') 2796.5]\n [Timestamp('1980-04-01 00:00:00') 2799.9]\n [Timestamp('1980-07-01 00:00:00') 2860.0]\n [Timestamp('1980-10-01 00:00:00') 2993.5]\n [Timestamp('1981-01-01 00:00:00') 3131.8]\n [Timestamp('1981-04-01 00:00:00') 3167.3]\n [Timestamp('1981-07-01 00:00:00') 3261.2]\n [Timestamp('1981-10-01 00:00:00') 3283.5]\n [Timestamp('1982-01-01 00:00:00') 3273.8]\n [Timestamp('1982-04-01 00:00:00') 3331.3]\n [Timestamp('1982-07-01 00:00:00') 3367.1]\n [Timestamp('1982-10-01 00:00:00') 3407.8]\n [Timestamp('1983-01-01 00:00:00') 3480.3]\n [Timestamp('1983-04-01 00:00:00') 3583.8]\n [Timestamp('1983-07-01 00:00:00') 3692.3]\n [Timestamp('1983-10-01 00:00:00') 3796.1]\n [Timestamp('1984-01-01 00:00:00') 3912.8]\n [Timestamp('1984-04-01 00:00:00') 4015.0]\n [Timestamp('1984-07-01 00:00:00') 4087.4]\n [Timestamp('1984-10-01 00:00:00') 4147.6]\n [Timestamp('1985-01-01 00:00:00') 4237.0]\n [Timestamp('1985-04-01 00:00:00') 4302.3]\n [Timestamp('1985-07-01 00:00:00') 4394.6]\n [Timestamp('1985-10-01 00:00:00') 4453.1]\n [Timestamp('1986-01-01 00:00:00') 4516.3]\n [Timestamp('1986-04-01 00:00:00') 4555.2]\n [Timestamp('1986-07-01 00:00:00') 4619.6]\n [Timestamp('1986-10-01 00:00:00') 4669.4]\n [Timestamp('1987-01-01 00:00:00') 4736.2]\n [Timestamp('1987-04-01 00:00:00') 4821.5]\n [Timestamp('1987-07-01 00:00:00') 4900.5]\n [Timestamp('1987-10-01 00:00:00') 5022.7]\n [Timestamp('1988-01-01 00:00:00') 5090.6]\n [Timestamp('1988-04-01 00:00:00') 5207.7]\n [Timestamp('1988-07-01 00:00:00') 5299.5]\n [Timestamp('1988-10-01 00:00:00') 5412.7]\n [Timestamp('1989-01-01 00:00:00') 5527.4]\n [Timestamp('1989-04-01 00:00:00') 5628.4]\n [Timestamp('1989-07-01 00:00:00') 5711.6]\n [Timestamp('1989-10-01 00:00:00') 5763.4]\n [Timestamp('1990-01-01 00:00:00') 5890.8]\n [Timestamp('1990-04-01 00:00:00') 5974.7]\n [Timestamp('1990-07-01 00:00:00') 6029.5]\n [Timestamp('1990-10-01 00:00:00') 6023.3]\n [Timestamp('1991-01-01 00:00:00') 6054.9]\n [Timestamp('1991-04-01 00:00:00') 6143.6]\n [Timestamp('1991-07-01 00:00:00') 6218.4]\n [Timestamp('1991-10-01 00:00:00') 6279.3]\n [Timestamp('1992-01-01 00:00:00') 6380.8]\n [Timestamp('1992-04-01 00:00:00') 6492.3]\n [Timestamp('1992-07-01 00:00:00') 6586.5]\n [Timestamp('1992-10-01 00:00:00') 6697.6]\n [Timestamp('1993-01-01 00:00:00') 6748.2]\n [Timestamp('1993-04-01 00:00:00') 6829.6]\n [Timestamp('1993-07-01 00:00:00') 6904.2]\n [Timestamp('1993-10-01 00:00:00') 7032.8]\n [Timestamp('1994-01-01 00:00:00') 7136.3]\n [Timestamp('1994-04-01 00:00:00') 7269.8]\n [Timestamp('1994-07-01 00:00:00') 7352.3]\n [Timestamp('1994-10-01 00:00:00') 7476.7]\n [Timestamp('1995-01-01 00:00:00') 7545.3]\n [Timestamp('1995-04-01 00:00:00') 7604.9]\n [Timestamp('1995-07-01 00:00:00') 7706.5]\n [Timestamp('1995-10-01 00:00:00') 7799.5]\n [Timestamp('1996-01-01 00:00:00') 7893.1]\n [Timestamp('1996-04-01 00:00:00') 8061.5]\n [Timestamp('1996-07-01 00:00:00') 8159.0]\n [Timestamp('1996-10-01 00:00:00') 8287.1]\n [Timestamp('1997-01-01 00:00:00') 8402.1]\n [Timestamp('1997-04-01 00:00:00') 8551.9]\n [Timestamp('1997-07-01 00:00:00') 8691.8]\n [Timestamp('1997-10-01 00:00:00') 8788.3]\n [Timestamp('1998-01-01 00:00:00') 8889.7]\n [Timestamp('1998-04-01 00:00:00') 8994.7]\n [Timestamp('1998-07-01 00:00:00') 9146.5]\n [Timestamp('1998-10-01 00:00:00') 9325.7]\n [Timestamp('1999-01-01 00:00:00') 9447.1]\n [Timestamp('1999-04-01 00:00:00') 9557.0]\n [Timestamp('1999-07-01 00:00:00') 9712.3]\n [Timestamp('1999-10-01 00:00:00') 9926.1]\n [Timestamp('2000-01-01 00:00:00') 10031.0]\n [Timestamp('2000-04-01 00:00:00') 10278.3]\n [Timestamp('2000-07-01 00:00:00') 10357.4]\n [Timestamp('2000-10-01 00:00:00') 10472.3]\n [Timestamp('2001-01-01 00:00:00') 10508.1]\n [Timestamp('2001-04-01 00:00:00') 10638.4]\n [Timestamp('2001-07-01 00:00:00') 10639.5]\n [Timestamp('2001-10-01 00:00:00') 10701.3]\n [Timestamp('2002-01-01 00:00:00') 10834.4]\n [Timestamp('2002-04-01 00:00:00') 10934.8]\n [Timestamp('2002-07-01 00:00:00') 11037.1]\n [Timestamp('2002-10-01 00:00:00') 11103.8]\n [Timestamp('2003-01-01 00:00:00') 11230.1]\n [Timestamp('2003-04-01 00:00:00') 11370.7]\n [Timestamp('2003-07-01 00:00:00') 11625.1]\n [Timestamp('2003-10-01 00:00:00') 11816.8]\n [Timestamp('2004-01-01 00:00:00') 11988.4]\n [Timestamp('2004-04-01 00:00:00') 12181.4]\n [Timestamp('2004-07-01 00:00:00') 12367.7]\n [Timestamp('2004-10-01 00:00:00') 12562.2]\n [Timestamp('2005-01-01 00:00:00') 12813.7]\n [Timestamp('2005-04-01 00:00:00') 12974.1]\n [Timestamp('2005-07-01 00:00:00') 13205.4]\n [Timestamp('2005-10-01 00:00:00') 13381.6]\n [Timestamp('2006-01-01 00:00:00') 13648.9]\n [Timestamp('2006-04-01 00:00:00') 13799.8]\n [Timestamp('2006-07-01 00:00:00') 13908.5]\n [Timestamp('2006-10-01 00:00:00') 14066.4]\n [Timestamp('2007-01-01 00:00:00') 14233.2]\n [Timestamp('2007-04-01 00:00:00') 14422.3]\n [Timestamp('2007-07-01 00:00:00') 14569.7]\n [Timestamp('2007-10-01 00:00:00') 14685.3]\n [Timestamp('2008-01-01 00:00:00') 14668.4]\n [Timestamp('2008-04-01 00:00:00') 14813.0]\n [Timestamp('2008-07-01 00:00:00') 14843.0]\n [Timestamp('2008-10-01 00:00:00') 14549.9]\n [Timestamp('2009-01-01 00:00:00') 14383.9]\n [Timestamp('2009-04-01 00:00:00') 14340.4]\n [Timestamp('2009-07-01 00:00:00') 14384.1]\n [Timestamp('2009-10-01 00:00:00') 14566.5]\n [Timestamp('2010-01-01 00:00:00') 14681.1]\n [Timestamp('2010-04-01 00:00:00') 14888.6]\n [Timestamp('2010-07-01 00:00:00') 15057.7]\n [Timestamp('2010-10-01 00:00:00') 15230.2]\n [Timestamp('2011-01-01 00:00:00') 15238.4]\n [Timestamp('2011-04-01 00:00:00') 15460.9]\n [Timestamp('2011-07-01 00:00:00') 15587.1]\n [Timestamp('2011-10-01 00:00:00') 15785.3]\n [Timestamp('2012-01-01 00:00:00') 15973.9]\n [Timestamp('2012-04-01 00:00:00') 16121.9]\n [Timestamp('2012-07-01 00:00:00') 16227.9]\n [Timestamp('2012-10-01 00:00:00') 16297.3]\n [Timestamp('2013-01-01 00:00:00') 16475.4]\n [Timestamp('2013-04-01 00:00:00') 16541.4]\n [Timestamp('2013-07-01 00:00:00') 16749.3]\n [Timestamp('2013-10-01 00:00:00') 16999.9]\n [Timestamp('2014-01-01 00:00:00') 17031.3]\n [Timestamp('2014-04-01 00:00:00') 17320.9]\n [Timestamp('2014-07-01 00:00:00') 17622.3]\n [Timestamp('2014-10-01 00:00:00') 17735.9]\n [Timestamp('2015-01-01 00:00:00') 17874.7]\n [Timestamp('2015-04-01 00:00:00') 18093.2]\n [Timestamp('2015-07-01 00:00:00') 18227.7]\n [Timestamp('2015-10-01 00:00:00') 18287.2]\n [Timestamp('2016-01-01 00:00:00') 18325.2]\n [Timestamp('2016-04-01 00:00:00') 18538.0]\n [Timestamp('2016-07-01 00:00:00') 18729.1]\n [Timestamp('2016-10-01 00:00:00') 18905.5]\n [Timestamp('2017-01-01 00:00:00') 19057.7]\n [Timestamp('2017-04-01 00:00:00') 19250.0]]\nNone.",
     "output_type": "error",
     "traceback": [
      "\u001b[1;31m---------------------------------------------------------------------------\u001b[0m",
      "\u001b[1;31mValueError\u001b[0m                                Traceback (most recent call last)",
      "Cell \u001b[1;32mIn[13], line 16\u001b[0m\n\u001b[0;32m     13\u001b[0m \u001b[38;5;66;03m# your code here\u001b[39;00m\n\u001b[0;32m     14\u001b[0m \u001b[38;5;28;01mimport\u001b[39;00m \u001b[38;5;21;01mstatsmodels\u001b[39;00m\u001b[38;5;21;01m.\u001b[39;00m\u001b[38;5;21;01mapi\u001b[39;00m \u001b[38;5;28;01mas\u001b[39;00m \u001b[38;5;21;01msm\u001b[39;00m\n\u001b[1;32m---> 16\u001b[0m mod \u001b[38;5;241m=\u001b[39m \u001b[43msm\u001b[49m\u001b[38;5;241;43m.\u001b[39;49m\u001b[43mtsa\u001b[49m\u001b[38;5;241;43m.\u001b[39;49m\u001b[43mstatespace\u001b[49m\u001b[38;5;241;43m.\u001b[39;49m\u001b[43mSARIMAX\u001b[49m\u001b[43m(\u001b[49m\u001b[43mendog\u001b[49m\u001b[43m \u001b[49m\u001b[38;5;241;43m=\u001b[39;49m\u001b[43m \u001b[49m\u001b[43mdf\u001b[49m\u001b[43m,\u001b[49m\u001b[43m \u001b[49m\u001b[43morder\u001b[49m\u001b[38;5;241;43m=\u001b[39;49m\u001b[43m(\u001b[49m\u001b[38;5;241;43m0\u001b[39;49m\u001b[43m,\u001b[49m\u001b[43m \u001b[49m\u001b[38;5;241;43m0\u001b[39;49m\u001b[43m,\u001b[49m\u001b[43m \u001b[49m\u001b[38;5;241;43m1\u001b[39;49m\u001b[43m)\u001b[49m\u001b[43m,\u001b[49m\u001b[43m \u001b[49m\u001b[43menforce_stationarity\u001b[49m\u001b[38;5;241;43m=\u001b[39;49m\u001b[38;5;28;43;01mFalse\u001b[39;49;00m\u001b[43m,\u001b[49m\u001b[43m \u001b[49m\u001b[43menforce_invertibility\u001b[49m\u001b[38;5;241;43m=\u001b[39;49m\u001b[38;5;28;43;01mFalse\u001b[39;49;00m\u001b[43m)\u001b[49m\n\u001b[0;32m     17\u001b[0m res \u001b[38;5;241m=\u001b[39m mod\u001b[38;5;241m.\u001b[39mres(disp\u001b[38;5;241m=\u001b[39m\u001b[38;5;28;01mFalse\u001b[39;00m)\n\u001b[0;32m     18\u001b[0m \u001b[38;5;28mprint\u001b[39m(res\u001b[38;5;241m.\u001b[39msummary())\n",
      "File \u001b[1;32m~\\anaconda3\\anaconda-py\\envs\\data-science\\lib\\site-packages\\statsmodels\\tsa\\statespace\\sarimax.py:328\u001b[0m, in \u001b[0;36mSARIMAX.__init__\u001b[1;34m(self, endog, exog, order, seasonal_order, trend, measurement_error, time_varying_regression, mle_regression, simple_differencing, enforce_stationarity, enforce_invertibility, hamilton_representation, concentrate_scale, trend_offset, use_exact_diffuse, dates, freq, missing, validate_specification, **kwargs)\u001b[0m\n\u001b[0;32m    318\u001b[0m \u001b[38;5;28;01mdef\u001b[39;00m \u001b[38;5;21m__init__\u001b[39m(\u001b[38;5;28mself\u001b[39m, endog, exog\u001b[38;5;241m=\u001b[39m\u001b[38;5;28;01mNone\u001b[39;00m, order\u001b[38;5;241m=\u001b[39m(\u001b[38;5;241m1\u001b[39m, \u001b[38;5;241m0\u001b[39m, \u001b[38;5;241m0\u001b[39m),\n\u001b[0;32m    319\u001b[0m              seasonal_order\u001b[38;5;241m=\u001b[39m(\u001b[38;5;241m0\u001b[39m, \u001b[38;5;241m0\u001b[39m, \u001b[38;5;241m0\u001b[39m, \u001b[38;5;241m0\u001b[39m), trend\u001b[38;5;241m=\u001b[39m\u001b[38;5;28;01mNone\u001b[39;00m,\n\u001b[0;32m    320\u001b[0m              measurement_error\u001b[38;5;241m=\u001b[39m\u001b[38;5;28;01mFalse\u001b[39;00m, time_varying_regression\u001b[38;5;241m=\u001b[39m\u001b[38;5;28;01mFalse\u001b[39;00m,\n\u001b[1;32m   (...)\u001b[0m\n\u001b[0;32m    325\u001b[0m              freq\u001b[38;5;241m=\u001b[39m\u001b[38;5;28;01mNone\u001b[39;00m, missing\u001b[38;5;241m=\u001b[39m\u001b[38;5;124m'\u001b[39m\u001b[38;5;124mnone\u001b[39m\u001b[38;5;124m'\u001b[39m, validate_specification\u001b[38;5;241m=\u001b[39m\u001b[38;5;28;01mTrue\u001b[39;00m,\n\u001b[0;32m    326\u001b[0m              \u001b[38;5;241m*\u001b[39m\u001b[38;5;241m*\u001b[39mkwargs):\n\u001b[1;32m--> 328\u001b[0m     \u001b[38;5;28mself\u001b[39m\u001b[38;5;241m.\u001b[39m_spec \u001b[38;5;241m=\u001b[39m \u001b[43mSARIMAXSpecification\u001b[49m\u001b[43m(\u001b[49m\n\u001b[0;32m    329\u001b[0m \u001b[43m        \u001b[49m\u001b[43mendog\u001b[49m\u001b[43m,\u001b[49m\u001b[43m \u001b[49m\u001b[43mexog\u001b[49m\u001b[38;5;241;43m=\u001b[39;49m\u001b[43mexog\u001b[49m\u001b[43m,\u001b[49m\u001b[43m \u001b[49m\u001b[43morder\u001b[49m\u001b[38;5;241;43m=\u001b[39;49m\u001b[43morder\u001b[49m\u001b[43m,\u001b[49m\u001b[43m \u001b[49m\u001b[43mseasonal_order\u001b[49m\u001b[38;5;241;43m=\u001b[39;49m\u001b[43mseasonal_order\u001b[49m\u001b[43m,\u001b[49m\n\u001b[0;32m    330\u001b[0m \u001b[43m        \u001b[49m\u001b[43mtrend\u001b[49m\u001b[38;5;241;43m=\u001b[39;49m\u001b[43mtrend\u001b[49m\u001b[43m,\u001b[49m\u001b[43m \u001b[49m\u001b[43menforce_stationarity\u001b[49m\u001b[38;5;241;43m=\u001b[39;49m\u001b[38;5;28;43;01mNone\u001b[39;49;00m\u001b[43m,\u001b[49m\u001b[43m \u001b[49m\u001b[43menforce_invertibility\u001b[49m\u001b[38;5;241;43m=\u001b[39;49m\u001b[38;5;28;43;01mNone\u001b[39;49;00m\u001b[43m,\u001b[49m\n\u001b[0;32m    331\u001b[0m \u001b[43m        \u001b[49m\u001b[43mconcentrate_scale\u001b[49m\u001b[38;5;241;43m=\u001b[39;49m\u001b[43mconcentrate_scale\u001b[49m\u001b[43m,\u001b[49m\u001b[43m \u001b[49m\u001b[43mdates\u001b[49m\u001b[38;5;241;43m=\u001b[39;49m\u001b[43mdates\u001b[49m\u001b[43m,\u001b[49m\u001b[43m \u001b[49m\u001b[43mfreq\u001b[49m\u001b[38;5;241;43m=\u001b[39;49m\u001b[43mfreq\u001b[49m\u001b[43m,\u001b[49m\n\u001b[0;32m    332\u001b[0m \u001b[43m        \u001b[49m\u001b[43mmissing\u001b[49m\u001b[38;5;241;43m=\u001b[39;49m\u001b[43mmissing\u001b[49m\u001b[43m,\u001b[49m\u001b[43m \u001b[49m\u001b[43mvalidate_specification\u001b[49m\u001b[38;5;241;43m=\u001b[39;49m\u001b[43mvalidate_specification\u001b[49m\u001b[43m)\u001b[49m\n\u001b[0;32m    333\u001b[0m     \u001b[38;5;28mself\u001b[39m\u001b[38;5;241m.\u001b[39m_params \u001b[38;5;241m=\u001b[39m SARIMAXParams(\u001b[38;5;28mself\u001b[39m\u001b[38;5;241m.\u001b[39m_spec)\n\u001b[0;32m    335\u001b[0m     \u001b[38;5;66;03m# Save given orders\u001b[39;00m\n",
      "File \u001b[1;32m~\\anaconda3\\anaconda-py\\envs\\data-science\\lib\\site-packages\\statsmodels\\tsa\\arima\\specification.py:446\u001b[0m, in \u001b[0;36mSARIMAXSpecification.__init__\u001b[1;34m(self, endog, exog, order, seasonal_order, ar_order, diff, ma_order, seasonal_ar_order, seasonal_diff, seasonal_ma_order, seasonal_periods, trend, enforce_stationarity, enforce_invertibility, concentrate_scale, trend_offset, dates, freq, missing, validate_specification)\u001b[0m\n\u001b[0;32m    441\u001b[0m         exog \u001b[38;5;241m=\u001b[39m np\u001b[38;5;241m.\u001b[39mc_[trend_data, exog]\n\u001b[0;32m    443\u001b[0m \u001b[38;5;66;03m# Create an underlying time series model, to handle endog / exog,\u001b[39;00m\n\u001b[0;32m    444\u001b[0m \u001b[38;5;66;03m# especially validating shapes, retrieving names, and potentially\u001b[39;00m\n\u001b[0;32m    445\u001b[0m \u001b[38;5;66;03m# providing us with a time series index\u001b[39;00m\n\u001b[1;32m--> 446\u001b[0m \u001b[38;5;28mself\u001b[39m\u001b[38;5;241m.\u001b[39m_model \u001b[38;5;241m=\u001b[39m \u001b[43mTimeSeriesModel\u001b[49m\u001b[43m(\u001b[49m\u001b[43mendog\u001b[49m\u001b[43m,\u001b[49m\u001b[43m \u001b[49m\u001b[43mexog\u001b[49m\u001b[38;5;241;43m=\u001b[39;49m\u001b[43mexog\u001b[49m\u001b[43m,\u001b[49m\u001b[43m \u001b[49m\u001b[43mdates\u001b[49m\u001b[38;5;241;43m=\u001b[39;49m\u001b[43mdates\u001b[49m\u001b[43m,\u001b[49m\u001b[43m \u001b[49m\u001b[43mfreq\u001b[49m\u001b[38;5;241;43m=\u001b[39;49m\u001b[43mfreq\u001b[49m\u001b[43m,\u001b[49m\n\u001b[0;32m    447\u001b[0m \u001b[43m                              \u001b[49m\u001b[43mmissing\u001b[49m\u001b[38;5;241;43m=\u001b[39;49m\u001b[43mmissing\u001b[49m\u001b[43m)\u001b[49m\n\u001b[0;32m    448\u001b[0m \u001b[38;5;28mself\u001b[39m\u001b[38;5;241m.\u001b[39mendog \u001b[38;5;241m=\u001b[39m \u001b[38;5;28;01mNone\u001b[39;00m \u001b[38;5;28;01mif\u001b[39;00m faux_endog \u001b[38;5;28;01melse\u001b[39;00m \u001b[38;5;28mself\u001b[39m\u001b[38;5;241m.\u001b[39m_model\u001b[38;5;241m.\u001b[39mendog\n\u001b[0;32m    449\u001b[0m \u001b[38;5;28mself\u001b[39m\u001b[38;5;241m.\u001b[39mexog \u001b[38;5;241m=\u001b[39m \u001b[38;5;28mself\u001b[39m\u001b[38;5;241m.\u001b[39m_model\u001b[38;5;241m.\u001b[39mexog\n",
      "File \u001b[1;32m~\\anaconda3\\anaconda-py\\envs\\data-science\\lib\\site-packages\\statsmodels\\tsa\\base\\tsa_model.py:468\u001b[0m, in \u001b[0;36mTimeSeriesModel.__init__\u001b[1;34m(self, endog, exog, dates, freq, missing, **kwargs)\u001b[0m\n\u001b[0;32m    465\u001b[0m \u001b[38;5;28;01mdef\u001b[39;00m \u001b[38;5;21m__init__\u001b[39m(\n\u001b[0;32m    466\u001b[0m     \u001b[38;5;28mself\u001b[39m, endog, exog\u001b[38;5;241m=\u001b[39m\u001b[38;5;28;01mNone\u001b[39;00m, dates\u001b[38;5;241m=\u001b[39m\u001b[38;5;28;01mNone\u001b[39;00m, freq\u001b[38;5;241m=\u001b[39m\u001b[38;5;28;01mNone\u001b[39;00m, missing\u001b[38;5;241m=\u001b[39m\u001b[38;5;124m\"\u001b[39m\u001b[38;5;124mnone\u001b[39m\u001b[38;5;124m\"\u001b[39m, \u001b[38;5;241m*\u001b[39m\u001b[38;5;241m*\u001b[39mkwargs\n\u001b[0;32m    467\u001b[0m ):\n\u001b[1;32m--> 468\u001b[0m     \u001b[38;5;28;43msuper\u001b[39;49m\u001b[43m(\u001b[49m\u001b[43m)\u001b[49m\u001b[38;5;241;43m.\u001b[39;49m\u001b[38;5;21;43m__init__\u001b[39;49m\u001b[43m(\u001b[49m\u001b[43mendog\u001b[49m\u001b[43m,\u001b[49m\u001b[43m \u001b[49m\u001b[43mexog\u001b[49m\u001b[43m,\u001b[49m\u001b[43m \u001b[49m\u001b[43mmissing\u001b[49m\u001b[38;5;241;43m=\u001b[39;49m\u001b[43mmissing\u001b[49m\u001b[43m,\u001b[49m\u001b[43m \u001b[49m\u001b[38;5;241;43m*\u001b[39;49m\u001b[38;5;241;43m*\u001b[39;49m\u001b[43mkwargs\u001b[49m\u001b[43m)\u001b[49m\n\u001b[0;32m    470\u001b[0m     \u001b[38;5;66;03m# Date handling in indexes\u001b[39;00m\n\u001b[0;32m    471\u001b[0m     \u001b[38;5;28mself\u001b[39m\u001b[38;5;241m.\u001b[39m_init_dates(dates, freq)\n",
      "File \u001b[1;32m~\\anaconda3\\anaconda-py\\envs\\data-science\\lib\\site-packages\\statsmodels\\base\\model.py:267\u001b[0m, in \u001b[0;36mLikelihoodModel.__init__\u001b[1;34m(self, endog, exog, **kwargs)\u001b[0m\n\u001b[0;32m    266\u001b[0m \u001b[38;5;28;01mdef\u001b[39;00m \u001b[38;5;21m__init__\u001b[39m(\u001b[38;5;28mself\u001b[39m, endog, exog\u001b[38;5;241m=\u001b[39m\u001b[38;5;28;01mNone\u001b[39;00m, \u001b[38;5;241m*\u001b[39m\u001b[38;5;241m*\u001b[39mkwargs):\n\u001b[1;32m--> 267\u001b[0m     \u001b[38;5;28;43msuper\u001b[39;49m\u001b[43m(\u001b[49m\u001b[43m)\u001b[49m\u001b[38;5;241;43m.\u001b[39;49m\u001b[38;5;21;43m__init__\u001b[39;49m\u001b[43m(\u001b[49m\u001b[43mendog\u001b[49m\u001b[43m,\u001b[49m\u001b[43m \u001b[49m\u001b[43mexog\u001b[49m\u001b[43m,\u001b[49m\u001b[43m \u001b[49m\u001b[38;5;241;43m*\u001b[39;49m\u001b[38;5;241;43m*\u001b[39;49m\u001b[43mkwargs\u001b[49m\u001b[43m)\u001b[49m\n\u001b[0;32m    268\u001b[0m     \u001b[38;5;28mself\u001b[39m\u001b[38;5;241m.\u001b[39minitialize()\n",
      "File \u001b[1;32m~\\anaconda3\\anaconda-py\\envs\\data-science\\lib\\site-packages\\statsmodels\\base\\model.py:92\u001b[0m, in \u001b[0;36mModel.__init__\u001b[1;34m(self, endog, exog, **kwargs)\u001b[0m\n\u001b[0;32m     90\u001b[0m missing \u001b[38;5;241m=\u001b[39m kwargs\u001b[38;5;241m.\u001b[39mpop(\u001b[38;5;124m'\u001b[39m\u001b[38;5;124mmissing\u001b[39m\u001b[38;5;124m'\u001b[39m, \u001b[38;5;124m'\u001b[39m\u001b[38;5;124mnone\u001b[39m\u001b[38;5;124m'\u001b[39m)\n\u001b[0;32m     91\u001b[0m hasconst \u001b[38;5;241m=\u001b[39m kwargs\u001b[38;5;241m.\u001b[39mpop(\u001b[38;5;124m'\u001b[39m\u001b[38;5;124mhasconst\u001b[39m\u001b[38;5;124m'\u001b[39m, \u001b[38;5;28;01mNone\u001b[39;00m)\n\u001b[1;32m---> 92\u001b[0m \u001b[38;5;28mself\u001b[39m\u001b[38;5;241m.\u001b[39mdata \u001b[38;5;241m=\u001b[39m \u001b[38;5;28;43mself\u001b[39;49m\u001b[38;5;241;43m.\u001b[39;49m\u001b[43m_handle_data\u001b[49m\u001b[43m(\u001b[49m\u001b[43mendog\u001b[49m\u001b[43m,\u001b[49m\u001b[43m \u001b[49m\u001b[43mexog\u001b[49m\u001b[43m,\u001b[49m\u001b[43m \u001b[49m\u001b[43mmissing\u001b[49m\u001b[43m,\u001b[49m\u001b[43m \u001b[49m\u001b[43mhasconst\u001b[49m\u001b[43m,\u001b[49m\n\u001b[0;32m     93\u001b[0m \u001b[43m                              \u001b[49m\u001b[38;5;241;43m*\u001b[39;49m\u001b[38;5;241;43m*\u001b[39;49m\u001b[43mkwargs\u001b[49m\u001b[43m)\u001b[49m\n\u001b[0;32m     94\u001b[0m \u001b[38;5;28mself\u001b[39m\u001b[38;5;241m.\u001b[39mk_constant \u001b[38;5;241m=\u001b[39m \u001b[38;5;28mself\u001b[39m\u001b[38;5;241m.\u001b[39mdata\u001b[38;5;241m.\u001b[39mk_constant\n\u001b[0;32m     95\u001b[0m \u001b[38;5;28mself\u001b[39m\u001b[38;5;241m.\u001b[39mexog \u001b[38;5;241m=\u001b[39m \u001b[38;5;28mself\u001b[39m\u001b[38;5;241m.\u001b[39mdata\u001b[38;5;241m.\u001b[39mexog\n",
      "File \u001b[1;32m~\\anaconda3\\anaconda-py\\envs\\data-science\\lib\\site-packages\\statsmodels\\base\\model.py:132\u001b[0m, in \u001b[0;36mModel._handle_data\u001b[1;34m(self, endog, exog, missing, hasconst, **kwargs)\u001b[0m\n\u001b[0;32m    131\u001b[0m \u001b[38;5;28;01mdef\u001b[39;00m \u001b[38;5;21m_handle_data\u001b[39m(\u001b[38;5;28mself\u001b[39m, endog, exog, missing, hasconst, \u001b[38;5;241m*\u001b[39m\u001b[38;5;241m*\u001b[39mkwargs):\n\u001b[1;32m--> 132\u001b[0m     data \u001b[38;5;241m=\u001b[39m \u001b[43mhandle_data\u001b[49m\u001b[43m(\u001b[49m\u001b[43mendog\u001b[49m\u001b[43m,\u001b[49m\u001b[43m \u001b[49m\u001b[43mexog\u001b[49m\u001b[43m,\u001b[49m\u001b[43m \u001b[49m\u001b[43mmissing\u001b[49m\u001b[43m,\u001b[49m\u001b[43m \u001b[49m\u001b[43mhasconst\u001b[49m\u001b[43m,\u001b[49m\u001b[43m \u001b[49m\u001b[38;5;241;43m*\u001b[39;49m\u001b[38;5;241;43m*\u001b[39;49m\u001b[43mkwargs\u001b[49m\u001b[43m)\u001b[49m\n\u001b[0;32m    133\u001b[0m     \u001b[38;5;66;03m# kwargs arrays could have changed, easier to just attach here\u001b[39;00m\n\u001b[0;32m    134\u001b[0m     \u001b[38;5;28;01mfor\u001b[39;00m key \u001b[38;5;129;01min\u001b[39;00m kwargs:\n",
      "File \u001b[1;32m~\\anaconda3\\anaconda-py\\envs\\data-science\\lib\\site-packages\\statsmodels\\base\\data.py:700\u001b[0m, in \u001b[0;36mhandle_data\u001b[1;34m(endog, exog, missing, hasconst, **kwargs)\u001b[0m\n\u001b[0;32m    697\u001b[0m     exog \u001b[38;5;241m=\u001b[39m np\u001b[38;5;241m.\u001b[39masarray(exog)\n\u001b[0;32m    699\u001b[0m klass \u001b[38;5;241m=\u001b[39m handle_data_class_factory(endog, exog)\n\u001b[1;32m--> 700\u001b[0m \u001b[38;5;28;01mreturn\u001b[39;00m \u001b[43mklass\u001b[49m\u001b[43m(\u001b[49m\u001b[43mendog\u001b[49m\u001b[43m,\u001b[49m\u001b[43m \u001b[49m\u001b[43mexog\u001b[49m\u001b[38;5;241;43m=\u001b[39;49m\u001b[43mexog\u001b[49m\u001b[43m,\u001b[49m\u001b[43m \u001b[49m\u001b[43mmissing\u001b[49m\u001b[38;5;241;43m=\u001b[39;49m\u001b[43mmissing\u001b[49m\u001b[43m,\u001b[49m\u001b[43m \u001b[49m\u001b[43mhasconst\u001b[49m\u001b[38;5;241;43m=\u001b[39;49m\u001b[43mhasconst\u001b[49m\u001b[43m,\u001b[49m\n\u001b[0;32m    701\u001b[0m \u001b[43m             \u001b[49m\u001b[38;5;241;43m*\u001b[39;49m\u001b[38;5;241;43m*\u001b[39;49m\u001b[43mkwargs\u001b[49m\u001b[43m)\u001b[49m\n",
      "File \u001b[1;32m~\\anaconda3\\anaconda-py\\envs\\data-science\\lib\\site-packages\\statsmodels\\base\\data.py:84\u001b[0m, in \u001b[0;36mModelData.__init__\u001b[1;34m(self, endog, exog, missing, hasconst, **kwargs)\u001b[0m\n\u001b[0;32m     82\u001b[0m     \u001b[38;5;28mself\u001b[39m\u001b[38;5;241m.\u001b[39morig_endog \u001b[38;5;241m=\u001b[39m endog\n\u001b[0;32m     83\u001b[0m     \u001b[38;5;28mself\u001b[39m\u001b[38;5;241m.\u001b[39morig_exog \u001b[38;5;241m=\u001b[39m exog\n\u001b[1;32m---> 84\u001b[0m     \u001b[38;5;28mself\u001b[39m\u001b[38;5;241m.\u001b[39mendog, \u001b[38;5;28mself\u001b[39m\u001b[38;5;241m.\u001b[39mexog \u001b[38;5;241m=\u001b[39m \u001b[38;5;28;43mself\u001b[39;49m\u001b[38;5;241;43m.\u001b[39;49m\u001b[43m_convert_endog_exog\u001b[49m\u001b[43m(\u001b[49m\u001b[43mendog\u001b[49m\u001b[43m,\u001b[49m\u001b[43m \u001b[49m\u001b[43mexog\u001b[49m\u001b[43m)\u001b[49m\n\u001b[0;32m     86\u001b[0m \u001b[38;5;28mself\u001b[39m\u001b[38;5;241m.\u001b[39mconst_idx \u001b[38;5;241m=\u001b[39m \u001b[38;5;28;01mNone\u001b[39;00m\n\u001b[0;32m     87\u001b[0m \u001b[38;5;28mself\u001b[39m\u001b[38;5;241m.\u001b[39mk_constant \u001b[38;5;241m=\u001b[39m \u001b[38;5;241m0\u001b[39m\n",
      "File \u001b[1;32m~\\anaconda3\\anaconda-py\\envs\\data-science\\lib\\site-packages\\statsmodels\\base\\data.py:530\u001b[0m, in \u001b[0;36mPandasData._convert_endog_exog\u001b[1;34m(self, endog, exog)\u001b[0m\n\u001b[0;32m    528\u001b[0m     \u001b[38;5;28;01melse\u001b[39;00m:\n\u001b[0;32m    529\u001b[0m         exog_dtype \u001b[38;5;241m=\u001b[39m \u001b[38;5;28;01mNone\u001b[39;00m\n\u001b[1;32m--> 530\u001b[0m     \u001b[38;5;28;01mraise\u001b[39;00m \u001b[38;5;167;01mValueError\u001b[39;00m(\n\u001b[0;32m    531\u001b[0m         \u001b[38;5;124m\"\u001b[39m\u001b[38;5;124mPandas data cast to numpy dtype of object. Check input data \u001b[39m\u001b[38;5;124m\"\u001b[39m\n\u001b[0;32m    532\u001b[0m         \u001b[38;5;124m\"\u001b[39m\u001b[38;5;124mwith np.asarray(data). The types seen were\u001b[39m\u001b[38;5;124m\"\u001b[39m\n\u001b[0;32m    533\u001b[0m         \u001b[38;5;124mf\u001b[39m\u001b[38;5;124m\"\u001b[39m\u001b[38;5;132;01m{\u001b[39;00mendog_dtype\u001b[38;5;132;01m}\u001b[39;00m\u001b[38;5;124m and \u001b[39m\u001b[38;5;132;01m{\u001b[39;00mexog_dtype\u001b[38;5;132;01m}\u001b[39;00m\u001b[38;5;124m. The data was\u001b[39m\u001b[38;5;130;01m\\n\u001b[39;00m\u001b[38;5;124m\"\u001b[39m\n\u001b[0;32m    534\u001b[0m         \u001b[38;5;124mf\u001b[39m\u001b[38;5;124m\"\u001b[39m\u001b[38;5;132;01m{\u001b[39;00morig_endog\u001b[38;5;132;01m}\u001b[39;00m\u001b[38;5;130;01m\\n\u001b[39;00m\u001b[38;5;124mand\u001b[39m\u001b[38;5;130;01m\\n\u001b[39;00m\u001b[38;5;124m \u001b[39m\u001b[38;5;132;01m{\u001b[39;00morig_exog\u001b[38;5;132;01m}\u001b[39;00m\u001b[38;5;130;01m\\n\u001b[39;00m\u001b[38;5;124mbefore. After,\u001b[39m\u001b[38;5;130;01m\\n\u001b[39;00m\u001b[38;5;132;01m{\u001b[39;00mendog\u001b[38;5;132;01m}\u001b[39;00m\u001b[38;5;130;01m\\n\u001b[39;00m\u001b[38;5;132;01m{\u001b[39;00mexog\u001b[38;5;132;01m}\u001b[39;00m\u001b[38;5;124m.\u001b[39m\u001b[38;5;124m\"\u001b[39m\n\u001b[0;32m    535\u001b[0m     )\n\u001b[0;32m    536\u001b[0m \u001b[38;5;28;01mreturn\u001b[39;00m \u001b[38;5;28msuper\u001b[39m(PandasData, \u001b[38;5;28mself\u001b[39m)\u001b[38;5;241m.\u001b[39m_convert_endog_exog(endog, exog)\n",
      "\u001b[1;31mValueError\u001b[0m: Pandas data cast to numpy dtype of object. Check input data with np.asarray(data). The types seen weredate             datetime64[ns]\nlevel-current           float64\ndtype: object and None. The data was\n          date  level-current\n0   1947-04-01          246.3\n1   1947-07-01          250.1\n2   1947-10-01          260.3\n3   1948-01-01          266.2\n4   1948-04-01          272.9\n..         ...            ...\n276 2016-04-01        18538.0\n277 2016-07-01        18729.1\n278 2016-10-01        18905.5\n279 2017-01-01        19057.7\n280 2017-04-01        19250.0\n\n[281 rows x 2 columns]\nand\n None\nbefore. After,\n[[Timestamp('1947-04-01 00:00:00') 246.3]\n [Timestamp('1947-07-01 00:00:00') 250.1]\n [Timestamp('1947-10-01 00:00:00') 260.3]\n [Timestamp('1948-01-01 00:00:00') 266.2]\n [Timestamp('1948-04-01 00:00:00') 272.9]\n [Timestamp('1948-07-01 00:00:00') 279.5]\n [Timestamp('1948-10-01 00:00:00') 280.7]\n [Timestamp('1949-01-01 00:00:00') 275.4]\n [Timestamp('1949-04-01 00:00:00') 271.7]\n [Timestamp('1949-07-01 00:00:00') 273.3]\n [Timestamp('1949-10-01 00:00:00') 271.0]\n [Timestamp('1950-01-01 00:00:00') 281.2]\n [Timestamp('1950-04-01 00:00:00') 290.7]\n [Timestamp('1950-07-01 00:00:00') 308.5]\n [Timestamp('1950-10-01 00:00:00') 320.3]\n [Timestamp('1951-01-01 00:00:00') 336.4]\n [Timestamp('1951-04-01 00:00:00') 344.5]\n [Timestamp('1951-07-01 00:00:00') 351.8]\n [Timestamp('1951-10-01 00:00:00') 356.6]\n [Timestamp('1952-01-01 00:00:00') 360.2]\n [Timestamp('1952-04-01 00:00:00') 361.4]\n [Timestamp('1952-07-01 00:00:00') 368.1]\n [Timestamp('1952-10-01 00:00:00') 381.2]\n [Timestamp('1953-01-01 00:00:00') 388.5]\n [Timestamp('1953-04-01 00:00:00') 392.3]\n [Timestamp('1953-07-01 00:00:00') 391.7]\n [Timestamp('1953-10-01 00:00:00') 386.5]\n [Timestamp('1954-01-01 00:00:00') 385.9]\n [Timestamp('1954-04-01 00:00:00') 386.7]\n [Timestamp('1954-07-01 00:00:00') 391.6]\n [Timestamp('1954-10-01 00:00:00') 400.3]\n [Timestamp('1955-01-01 00:00:00') 413.8]\n [Timestamp('1955-04-01 00:00:00') 422.2]\n [Timestamp('1955-07-01 00:00:00') 430.9]\n [Timestamp('1955-10-01 00:00:00') 437.8]\n [Timestamp('1956-01-01 00:00:00') 440.5]\n [Timestamp('1956-04-01 00:00:00') 446.8]\n [Timestamp('1956-07-01 00:00:00') 452.0]\n [Timestamp('1956-10-01 00:00:00') 461.3]\n [Timestamp('1957-01-01 00:00:00') 470.6]\n [Timestamp('1957-04-01 00:00:00') 472.8]\n [Timestamp('1957-07-01 00:00:00') 480.3]\n [Timestamp('1957-10-01 00:00:00') 475.7]\n [Timestamp('1958-01-01 00:00:00') 468.4]\n [Timestamp('1958-04-01 00:00:00') 472.8]\n [Timestamp('1958-07-01 00:00:00') 486.7]\n [Timestamp('1958-10-01 00:00:00') 500.4]\n [Timestamp('1959-01-01 00:00:00') 511.1]\n [Timestamp('1959-04-01 00:00:00') 524.2]\n [Timestamp('1959-07-01 00:00:00') 525.2]\n [Timestamp('1959-10-01 00:00:00') 529.3]\n [Timestamp('1960-01-01 00:00:00') 543.3]\n [Timestamp('1960-04-01 00:00:00') 542.7]\n [Timestamp('1960-07-01 00:00:00') 546.0]\n [Timestamp('1960-10-01 00:00:00') 541.1]\n [Timestamp('1961-01-01 00:00:00') 545.9]\n [Timestamp('1961-04-01 00:00:00') 557.4]\n [Timestamp('1961-07-01 00:00:00') 568.2]\n [Timestamp('1961-10-01 00:00:00') 581.6]\n [Timestamp('1962-01-01 00:00:00') 595.2]\n [Timestamp('1962-04-01 00:00:00') 602.6]\n [Timestamp('1962-07-01 00:00:00') 609.6]\n [Timestamp('1962-10-01 00:00:00') 613.1]\n [Timestamp('1963-01-01 00:00:00') 622.7]\n [Timestamp('1963-04-01 00:00:00') 631.8]\n [Timestamp('1963-07-01 00:00:00') 645.0]\n [Timestamp('1963-10-01 00:00:00') 654.8]\n [Timestamp('1964-01-01 00:00:00') 671.1]\n [Timestamp('1964-04-01 00:00:00') 680.8]\n [Timestamp('1964-07-01 00:00:00') 692.8]\n [Timestamp('1964-10-01 00:00:00') 698.4]\n [Timestamp('1965-01-01 00:00:00') 719.2]\n [Timestamp('1965-04-01 00:00:00') 732.4]\n [Timestamp('1965-07-01 00:00:00') 750.2]\n [Timestamp('1965-10-01 00:00:00') 773.1]\n [Timestamp('1966-01-01 00:00:00') 797.3]\n [Timestamp('1966-04-01 00:00:00') 807.2]\n [Timestamp('1966-07-01 00:00:00') 820.8]\n [Timestamp('1966-10-01 00:00:00') 834.9]\n [Timestamp('1967-01-01 00:00:00') 846.0]\n [Timestamp('1967-04-01 00:00:00') 851.1]\n [Timestamp('1967-07-01 00:00:00') 866.6]\n [Timestamp('1967-10-01 00:00:00') 883.2]\n [Timestamp('1968-01-01 00:00:00') 911.1]\n [Timestamp('1968-04-01 00:00:00') 936.3]\n [Timestamp('1968-07-01 00:00:00') 952.3]\n [Timestamp('1968-10-01 00:00:00') 970.1]\n [Timestamp('1969-01-01 00:00:00') 995.4]\n [Timestamp('1969-04-01 00:00:00') 1011.4]\n [Timestamp('1969-07-01 00:00:00') 1032.0]\n [Timestamp('1969-10-01 00:00:00') 1040.7]\n [Timestamp('1970-01-01 00:00:00') 1053.5]\n [Timestamp('1970-04-01 00:00:00') 1070.1]\n [Timestamp('1970-07-01 00:00:00') 1088.5]\n [Timestamp('1970-10-01 00:00:00') 1091.5]\n [Timestamp('1971-01-01 00:00:00') 1137.8]\n [Timestamp('1971-04-01 00:00:00') 1159.4]\n [Timestamp('1971-07-01 00:00:00') 1180.3]\n [Timestamp('1971-10-01 00:00:00') 1193.6]\n [Timestamp('1972-01-01 00:00:00') 1233.8]\n [Timestamp('1972-04-01 00:00:00') 1270.1]\n [Timestamp('1972-07-01 00:00:00') 1293.8]\n [Timestamp('1972-10-01 00:00:00') 1332.0]\n [Timestamp('1973-01-01 00:00:00') 1380.7]\n [Timestamp('1973-04-01 00:00:00') 1417.6]\n [Timestamp('1973-07-01 00:00:00') 1436.8]\n [Timestamp('1973-10-01 00:00:00') 1479.1]\n [Timestamp('1974-01-01 00:00:00') 1494.7]\n [Timestamp('1974-04-01 00:00:00') 1534.2]\n [Timestamp('1974-07-01 00:00:00') 1563.4]\n [Timestamp('1974-10-01 00:00:00') 1603.0]\n [Timestamp('1975-01-01 00:00:00') 1619.6]\n [Timestamp('1975-04-01 00:00:00') 1656.4]\n [Timestamp('1975-07-01 00:00:00') 1713.8]\n [Timestamp('1975-10-01 00:00:00') 1765.9]\n [Timestamp('1976-01-01 00:00:00') 1824.5]\n [Timestamp('1976-04-01 00:00:00') 1856.9]\n [Timestamp('1976-07-01 00:00:00') 1890.5]\n [Timestamp('1976-10-01 00:00:00') 1938.4]\n [Timestamp('1977-01-01 00:00:00') 1992.5]\n [Timestamp('1977-04-01 00:00:00') 2060.2]\n [Timestamp('1977-07-01 00:00:00') 2122.4]\n [Timestamp('1977-10-01 00:00:00') 2168.7]\n [Timestamp('1978-01-01 00:00:00') 2208.7]\n [Timestamp('1978-04-01 00:00:00') 2336.6]\n [Timestamp('1978-07-01 00:00:00') 2398.9]\n [Timestamp('1978-10-01 00:00:00') 2482.2]\n [Timestamp('1979-01-01 00:00:00') 2531.6]\n [Timestamp('1979-04-01 00:00:00') 2595.9]\n [Timestamp('1979-07-01 00:00:00') 2670.4]\n [Timestamp('1979-10-01 00:00:00') 2730.7]\n [Timestamp('1980-01-01 00:00:00') 2796.5]\n [Timestamp('1980-04-01 00:00:00') 2799.9]\n [Timestamp('1980-07-01 00:00:00') 2860.0]\n [Timestamp('1980-10-01 00:00:00') 2993.5]\n [Timestamp('1981-01-01 00:00:00') 3131.8]\n [Timestamp('1981-04-01 00:00:00') 3167.3]\n [Timestamp('1981-07-01 00:00:00') 3261.2]\n [Timestamp('1981-10-01 00:00:00') 3283.5]\n [Timestamp('1982-01-01 00:00:00') 3273.8]\n [Timestamp('1982-04-01 00:00:00') 3331.3]\n [Timestamp('1982-07-01 00:00:00') 3367.1]\n [Timestamp('1982-10-01 00:00:00') 3407.8]\n [Timestamp('1983-01-01 00:00:00') 3480.3]\n [Timestamp('1983-04-01 00:00:00') 3583.8]\n [Timestamp('1983-07-01 00:00:00') 3692.3]\n [Timestamp('1983-10-01 00:00:00') 3796.1]\n [Timestamp('1984-01-01 00:00:00') 3912.8]\n [Timestamp('1984-04-01 00:00:00') 4015.0]\n [Timestamp('1984-07-01 00:00:00') 4087.4]\n [Timestamp('1984-10-01 00:00:00') 4147.6]\n [Timestamp('1985-01-01 00:00:00') 4237.0]\n [Timestamp('1985-04-01 00:00:00') 4302.3]\n [Timestamp('1985-07-01 00:00:00') 4394.6]\n [Timestamp('1985-10-01 00:00:00') 4453.1]\n [Timestamp('1986-01-01 00:00:00') 4516.3]\n [Timestamp('1986-04-01 00:00:00') 4555.2]\n [Timestamp('1986-07-01 00:00:00') 4619.6]\n [Timestamp('1986-10-01 00:00:00') 4669.4]\n [Timestamp('1987-01-01 00:00:00') 4736.2]\n [Timestamp('1987-04-01 00:00:00') 4821.5]\n [Timestamp('1987-07-01 00:00:00') 4900.5]\n [Timestamp('1987-10-01 00:00:00') 5022.7]\n [Timestamp('1988-01-01 00:00:00') 5090.6]\n [Timestamp('1988-04-01 00:00:00') 5207.7]\n [Timestamp('1988-07-01 00:00:00') 5299.5]\n [Timestamp('1988-10-01 00:00:00') 5412.7]\n [Timestamp('1989-01-01 00:00:00') 5527.4]\n [Timestamp('1989-04-01 00:00:00') 5628.4]\n [Timestamp('1989-07-01 00:00:00') 5711.6]\n [Timestamp('1989-10-01 00:00:00') 5763.4]\n [Timestamp('1990-01-01 00:00:00') 5890.8]\n [Timestamp('1990-04-01 00:00:00') 5974.7]\n [Timestamp('1990-07-01 00:00:00') 6029.5]\n [Timestamp('1990-10-01 00:00:00') 6023.3]\n [Timestamp('1991-01-01 00:00:00') 6054.9]\n [Timestamp('1991-04-01 00:00:00') 6143.6]\n [Timestamp('1991-07-01 00:00:00') 6218.4]\n [Timestamp('1991-10-01 00:00:00') 6279.3]\n [Timestamp('1992-01-01 00:00:00') 6380.8]\n [Timestamp('1992-04-01 00:00:00') 6492.3]\n [Timestamp('1992-07-01 00:00:00') 6586.5]\n [Timestamp('1992-10-01 00:00:00') 6697.6]\n [Timestamp('1993-01-01 00:00:00') 6748.2]\n [Timestamp('1993-04-01 00:00:00') 6829.6]\n [Timestamp('1993-07-01 00:00:00') 6904.2]\n [Timestamp('1993-10-01 00:00:00') 7032.8]\n [Timestamp('1994-01-01 00:00:00') 7136.3]\n [Timestamp('1994-04-01 00:00:00') 7269.8]\n [Timestamp('1994-07-01 00:00:00') 7352.3]\n [Timestamp('1994-10-01 00:00:00') 7476.7]\n [Timestamp('1995-01-01 00:00:00') 7545.3]\n [Timestamp('1995-04-01 00:00:00') 7604.9]\n [Timestamp('1995-07-01 00:00:00') 7706.5]\n [Timestamp('1995-10-01 00:00:00') 7799.5]\n [Timestamp('1996-01-01 00:00:00') 7893.1]\n [Timestamp('1996-04-01 00:00:00') 8061.5]\n [Timestamp('1996-07-01 00:00:00') 8159.0]\n [Timestamp('1996-10-01 00:00:00') 8287.1]\n [Timestamp('1997-01-01 00:00:00') 8402.1]\n [Timestamp('1997-04-01 00:00:00') 8551.9]\n [Timestamp('1997-07-01 00:00:00') 8691.8]\n [Timestamp('1997-10-01 00:00:00') 8788.3]\n [Timestamp('1998-01-01 00:00:00') 8889.7]\n [Timestamp('1998-04-01 00:00:00') 8994.7]\n [Timestamp('1998-07-01 00:00:00') 9146.5]\n [Timestamp('1998-10-01 00:00:00') 9325.7]\n [Timestamp('1999-01-01 00:00:00') 9447.1]\n [Timestamp('1999-04-01 00:00:00') 9557.0]\n [Timestamp('1999-07-01 00:00:00') 9712.3]\n [Timestamp('1999-10-01 00:00:00') 9926.1]\n [Timestamp('2000-01-01 00:00:00') 10031.0]\n [Timestamp('2000-04-01 00:00:00') 10278.3]\n [Timestamp('2000-07-01 00:00:00') 10357.4]\n [Timestamp('2000-10-01 00:00:00') 10472.3]\n [Timestamp('2001-01-01 00:00:00') 10508.1]\n [Timestamp('2001-04-01 00:00:00') 10638.4]\n [Timestamp('2001-07-01 00:00:00') 10639.5]\n [Timestamp('2001-10-01 00:00:00') 10701.3]\n [Timestamp('2002-01-01 00:00:00') 10834.4]\n [Timestamp('2002-04-01 00:00:00') 10934.8]\n [Timestamp('2002-07-01 00:00:00') 11037.1]\n [Timestamp('2002-10-01 00:00:00') 11103.8]\n [Timestamp('2003-01-01 00:00:00') 11230.1]\n [Timestamp('2003-04-01 00:00:00') 11370.7]\n [Timestamp('2003-07-01 00:00:00') 11625.1]\n [Timestamp('2003-10-01 00:00:00') 11816.8]\n [Timestamp('2004-01-01 00:00:00') 11988.4]\n [Timestamp('2004-04-01 00:00:00') 12181.4]\n [Timestamp('2004-07-01 00:00:00') 12367.7]\n [Timestamp('2004-10-01 00:00:00') 12562.2]\n [Timestamp('2005-01-01 00:00:00') 12813.7]\n [Timestamp('2005-04-01 00:00:00') 12974.1]\n [Timestamp('2005-07-01 00:00:00') 13205.4]\n [Timestamp('2005-10-01 00:00:00') 13381.6]\n [Timestamp('2006-01-01 00:00:00') 13648.9]\n [Timestamp('2006-04-01 00:00:00') 13799.8]\n [Timestamp('2006-07-01 00:00:00') 13908.5]\n [Timestamp('2006-10-01 00:00:00') 14066.4]\n [Timestamp('2007-01-01 00:00:00') 14233.2]\n [Timestamp('2007-04-01 00:00:00') 14422.3]\n [Timestamp('2007-07-01 00:00:00') 14569.7]\n [Timestamp('2007-10-01 00:00:00') 14685.3]\n [Timestamp('2008-01-01 00:00:00') 14668.4]\n [Timestamp('2008-04-01 00:00:00') 14813.0]\n [Timestamp('2008-07-01 00:00:00') 14843.0]\n [Timestamp('2008-10-01 00:00:00') 14549.9]\n [Timestamp('2009-01-01 00:00:00') 14383.9]\n [Timestamp('2009-04-01 00:00:00') 14340.4]\n [Timestamp('2009-07-01 00:00:00') 14384.1]\n [Timestamp('2009-10-01 00:00:00') 14566.5]\n [Timestamp('2010-01-01 00:00:00') 14681.1]\n [Timestamp('2010-04-01 00:00:00') 14888.6]\n [Timestamp('2010-07-01 00:00:00') 15057.7]\n [Timestamp('2010-10-01 00:00:00') 15230.2]\n [Timestamp('2011-01-01 00:00:00') 15238.4]\n [Timestamp('2011-04-01 00:00:00') 15460.9]\n [Timestamp('2011-07-01 00:00:00') 15587.1]\n [Timestamp('2011-10-01 00:00:00') 15785.3]\n [Timestamp('2012-01-01 00:00:00') 15973.9]\n [Timestamp('2012-04-01 00:00:00') 16121.9]\n [Timestamp('2012-07-01 00:00:00') 16227.9]\n [Timestamp('2012-10-01 00:00:00') 16297.3]\n [Timestamp('2013-01-01 00:00:00') 16475.4]\n [Timestamp('2013-04-01 00:00:00') 16541.4]\n [Timestamp('2013-07-01 00:00:00') 16749.3]\n [Timestamp('2013-10-01 00:00:00') 16999.9]\n [Timestamp('2014-01-01 00:00:00') 17031.3]\n [Timestamp('2014-04-01 00:00:00') 17320.9]\n [Timestamp('2014-07-01 00:00:00') 17622.3]\n [Timestamp('2014-10-01 00:00:00') 17735.9]\n [Timestamp('2015-01-01 00:00:00') 17874.7]\n [Timestamp('2015-04-01 00:00:00') 18093.2]\n [Timestamp('2015-07-01 00:00:00') 18227.7]\n [Timestamp('2015-10-01 00:00:00') 18287.2]\n [Timestamp('2016-01-01 00:00:00') 18325.2]\n [Timestamp('2016-04-01 00:00:00') 18538.0]\n [Timestamp('2016-07-01 00:00:00') 18729.1]\n [Timestamp('2016-10-01 00:00:00') 18905.5]\n [Timestamp('2017-01-01 00:00:00') 19057.7]\n [Timestamp('2017-04-01 00:00:00') 19250.0]]\nNone."
     ]
    }
   ],
   "source": [
    "## Part B (50 pts)\n",
    "\n",
    "''' \n",
    "i) Import the 'statsmodels.api' library. We'll be using the SARIMA model from here. \n",
    "Refer to the documentation here: https://www.statsmodels.org/stable/generated/statsmodels.tsa.statespace.sarimax.SARIMAX.html\n",
    "\n",
    "ii) Create a SARIMAX model on the dataframe with the following paramaters:\n",
    "order=(0, 0, 1),=(1, 1, 1, 12), enforce_stationarity=False, enforce_invertibility=False.\n",
    "\n",
    "iii) Fit the model on the data and store it in a variable called 'results'.\n",
    "'''\n",
    "\n",
    "# your code here\n",
    "import statsmodels.api as sm\n",
    "\n",
    "mod = sm.tsa.statespace.SARIMAX(endog = df, order=(0, 0, 1), enforce_stationarity=False, enforce_invertibility=False)\n",
    "result = mod.res(disp=False)\n",
    "print(res.summary())"
   ]
  },
  {
   "cell_type": "code",
   "execution_count": null,
   "metadata": {
    "deletable": false,
    "editable": false,
    "nbgrader": {
     "cell_type": "code",
     "checksum": "4fdb2e84560c48bdee332c34a7b265fb",
     "grade": true,
     "grade_id": "cell-e756b496f66c2f9f",
     "locked": true,
     "points": 50,
     "schema_version": 3,
     "solution": false,
     "task": false
    }
   },
   "outputs": [],
   "source": []
  },
  {
   "cell_type": "code",
   "execution_count": null,
   "metadata": {
    "deletable": false,
    "nbgrader": {
     "cell_type": "code",
     "checksum": "36516a88e5f9199801354955ee9d88a0",
     "grade": false,
     "grade_id": "cell-0edefd269ba130c1",
     "locked": false,
     "schema_version": 3,
     "solution": true,
     "task": false
    }
   },
   "outputs": [],
   "source": [
    "## Part C (20 pts)\n",
    "\n",
    "''' \n",
    "i) Generate a 95% confidence interval for predictions starting on 1/1/2018. \n",
    "Store it in a tuple variable called 'pred_ci'.\n",
    "'pred_ci' should be of the form (lower_bound, upper_bound) where lower_bound and upper_bound are decimals.\n",
    "'''\n",
    "\n",
    "# your code here\n"
   ]
  },
  {
   "cell_type": "code",
   "execution_count": null,
   "metadata": {
    "deletable": false,
    "editable": false,
    "nbgrader": {
     "cell_type": "code",
     "checksum": "9ff8d2b8d71903bb7751f728af191c2d",
     "grade": true,
     "grade_id": "cell-3bde9ae0f3f35215",
     "locked": true,
     "points": 20,
     "schema_version": 3,
     "solution": false,
     "task": false
    }
   },
   "outputs": [],
   "source": []
  }
 ],
 "metadata": {
  "kernelspec": {
   "display_name": "Python 3 (ipykernel)",
   "language": "python",
   "name": "python3"
  },
  "language_info": {
   "codemirror_mode": {
    "name": "ipython",
    "version": 3
   },
   "file_extension": ".py",
   "mimetype": "text/x-python",
   "name": "python",
   "nbconvert_exporter": "python",
   "pygments_lexer": "ipython3",
   "version": "3.8.12"
  },
  "toc": {
   "base_numbering": 1,
   "nav_menu": {},
   "number_sections": true,
   "sideBar": true,
   "skip_h1_title": false,
   "title_cell": "Table of Contents",
   "title_sidebar": "Contents",
   "toc_cell": false,
   "toc_position": {},
   "toc_section_display": true,
   "toc_window_display": false
  }
 },
 "nbformat": 4,
 "nbformat_minor": 4
}
