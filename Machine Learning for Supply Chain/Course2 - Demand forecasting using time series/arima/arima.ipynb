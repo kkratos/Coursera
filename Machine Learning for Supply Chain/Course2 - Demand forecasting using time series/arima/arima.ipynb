{
 "cells": [
  {
   "cell_type": "markdown",
   "metadata": {},
   "source": [
    "- Autoregressive Integrated Moving Average Model\n",
    "- Can be used with non-stationary data - does not have same mean and variance\n",
    "- stationary data remain same over with with regard to mean and variance\n",
    "- evolved form of lagged regression\n",
    "- predictable sub-process\n",
    "\n",
    "1. Autoregression\n",
    "2. Integrated\n",
    "3. Moving Average \n",
    "\n",
    "Autoregressive Models in Deep Learning — A Brief Survey\n",
    "https://www.georgeho.org/deep-autoregressive-models/"
   ]
  },
  {
   "cell_type": "markdown",
   "metadata": {
    "deletable": false,
    "editable": false,
    "nbgrader": {
     "cell_type": "markdown",
     "checksum": "220ce6bbcd1246202a181cf2ce088bcb",
     "grade": false,
     "grade_id": "cell-d2ca30b2a7fecd4e",
     "locked": true,
     "schema_version": 3,
     "solution": false,
     "task": false
    }
   },
   "source": [
    "## Implementing an ARIMA Model in Python\n",
    "\n",
    "In this notebook, we'll use an arima model to make predict gdp levels in future years.\n"
   ]
  },
  {
   "cell_type": "code",
   "execution_count": 26,
   "metadata": {
    "ExecuteTime": {
     "end_time": "2023-04-15T14:14:40.087099Z",
     "start_time": "2023-04-15T14:14:40.011569Z"
    },
    "deletable": false,
    "editable": false,
    "nbgrader": {
     "cell_type": "code",
     "checksum": "c7e5982e65f6b685ed17d9660c9a2bb1",
     "grade": false,
     "grade_id": "cell-ec9eea049f88211e",
     "locked": true,
     "schema_version": 3,
     "solution": false,
     "task": false
    }
   },
   "outputs": [
    {
     "data": {
      "text/html": [
       "<div>\n",
       "<style scoped>\n",
       "    .dataframe tbody tr th:only-of-type {\n",
       "        vertical-align: middle;\n",
       "    }\n",
       "\n",
       "    .dataframe tbody tr th {\n",
       "        vertical-align: top;\n",
       "    }\n",
       "\n",
       "    .dataframe thead th {\n",
       "        text-align: right;\n",
       "    }\n",
       "</style>\n",
       "<table border=\"1\" class=\"dataframe\">\n",
       "  <thead>\n",
       "    <tr style=\"text-align: right;\">\n",
       "      <th></th>\n",
       "      <th>date</th>\n",
       "      <th>level-current</th>\n",
       "      <th>level-chained</th>\n",
       "      <th>change-current</th>\n",
       "      <th>change-chained</th>\n",
       "    </tr>\n",
       "  </thead>\n",
       "  <tbody>\n",
       "    <tr>\n",
       "      <th>0</th>\n",
       "      <td>1947-04-01</td>\n",
       "      <td>246.3</td>\n",
       "      <td>1932.3</td>\n",
       "      <td>6.4</td>\n",
       "      <td>-0.4</td>\n",
       "    </tr>\n",
       "    <tr>\n",
       "      <th>1</th>\n",
       "      <td>1947-07-01</td>\n",
       "      <td>250.1</td>\n",
       "      <td>1930.3</td>\n",
       "      <td>17.3</td>\n",
       "      <td>6.4</td>\n",
       "    </tr>\n",
       "    <tr>\n",
       "      <th>2</th>\n",
       "      <td>1947-10-01</td>\n",
       "      <td>260.3</td>\n",
       "      <td>1960.7</td>\n",
       "      <td>9.3</td>\n",
       "      <td>6.0</td>\n",
       "    </tr>\n",
       "    <tr>\n",
       "      <th>3</th>\n",
       "      <td>1948-01-01</td>\n",
       "      <td>266.2</td>\n",
       "      <td>1989.5</td>\n",
       "      <td>10.5</td>\n",
       "      <td>6.7</td>\n",
       "    </tr>\n",
       "    <tr>\n",
       "      <th>4</th>\n",
       "      <td>1948-04-01</td>\n",
       "      <td>272.9</td>\n",
       "      <td>2021.9</td>\n",
       "      <td>10.0</td>\n",
       "      <td>2.3</td>\n",
       "    </tr>\n",
       "  </tbody>\n",
       "</table>\n",
       "</div>"
      ],
      "text/plain": [
       "         date  level-current  level-chained  change-current  change-chained\n",
       "0  1947-04-01          246.3         1932.3             6.4            -0.4\n",
       "1  1947-07-01          250.1         1930.3            17.3             6.4\n",
       "2  1947-10-01          260.3         1960.7             9.3             6.0\n",
       "3  1948-01-01          266.2         1989.5            10.5             6.7\n",
       "4  1948-04-01          272.9         2021.9            10.0             2.3"
      ]
     },
     "execution_count": 26,
     "metadata": {},
     "output_type": "execute_result"
    }
   ],
   "source": [
    "### Import libraries and load in data into a dataframe called 'df'.\n",
    "### This dataset gives US GDP levels from 1947-2017. \n",
    "### In this assignment, our goal is to predict future levels (2018+)\n",
    "\n",
    "import pandas as pd\n",
    "import numpy as np\n",
    "\n",
    "df = pd.read_csv('quarter.csv')\n",
    "df.head()"
   ]
  },
  {
   "cell_type": "code",
   "execution_count": 27,
   "metadata": {
    "ExecuteTime": {
     "end_time": "2023-04-15T14:14:40.125980Z",
     "start_time": "2023-04-15T14:14:40.095064Z"
    },
    "deletable": false,
    "nbgrader": {
     "cell_type": "code",
     "checksum": "80bd3190e656e4422cbab212e94cecaa",
     "grade": false,
     "grade_id": "cell-aa95ba5c4ceb9ff7",
     "locked": false,
     "schema_version": 3,
     "solution": true,
     "task": false
    }
   },
   "outputs": [],
   "source": [
    "## Part A (30 pts)\n",
    "\n",
    "''' \n",
    "i) Convert the values in the 'date' column into datetime objects. Set the index of the dataframe to the 'date' column. \n",
    "\n",
    "ii) Delete all columns except for 'level-current', making sure the data is still in a DataFrame format instead of a series.\n",
    "\n",
    "Both i-ii should be done in place to the 'df' dataframe.\n",
    "'''\n",
    "\n",
    "# your code here\n",
    "# df['date'] = pd.to_datetime(df['date'])\n",
    "# df.drop(columns=['level-chained', 'change-current', 'change-chained'], inplace=True)\n",
    "# df.head()\n",
    "\n",
    "df['date'] = pd.to_datetime(df['date'])\n",
    "df.set_index('date', inplace = True)\n",
    "df = pd.DataFrame(df['level-current'])"
   ]
  },
  {
   "cell_type": "code",
   "execution_count": null,
   "metadata": {
    "deletable": false,
    "editable": false,
    "nbgrader": {
     "cell_type": "code",
     "checksum": "c6b11ec3115aac1c562ef308605341e2",
     "grade": true,
     "grade_id": "cell-d3a5d5c916696227",
     "locked": true,
     "points": 30,
     "schema_version": 3,
     "solution": false,
     "task": false
    }
   },
   "outputs": [],
   "source": []
  },
  {
   "cell_type": "code",
   "execution_count": 28,
   "metadata": {
    "ExecuteTime": {
     "end_time": "2023-04-15T14:14:42.750418Z",
     "start_time": "2023-04-15T14:14:40.133515Z"
    },
    "deletable": false,
    "nbgrader": {
     "cell_type": "code",
     "checksum": "9c594a42dbfe2d2706cc6c1bc2dc791d",
     "grade": false,
     "grade_id": "cell-b4462273817f7e75",
     "locked": false,
     "schema_version": 3,
     "solution": true,
     "task": false
    }
   },
   "outputs": [
    {
     "name": "stderr",
     "output_type": "stream",
     "text": [
      "C:\\Users\\kamal\\anaconda3\\anaconda-py\\envs\\data-science\\lib\\site-packages\\statsmodels\\tsa\\base\\tsa_model.py:471: ValueWarning: No frequency information was provided, so inferred frequency QS-OCT will be used.\n",
      "  self._init_dates(dates, freq)\n",
      "C:\\Users\\kamal\\anaconda3\\anaconda-py\\envs\\data-science\\lib\\site-packages\\statsmodels\\tsa\\base\\tsa_model.py:471: ValueWarning: No frequency information was provided, so inferred frequency QS-OCT will be used.\n",
      "  self._init_dates(dates, freq)\n"
     ]
    },
    {
     "name": "stdout",
     "output_type": "stream",
     "text": [
      "                                     SARIMAX Results                                      \n",
      "==========================================================================================\n",
      "Dep. Variable:                      level-current   No. Observations:                  281\n",
      "Model:             SARIMAX(0, 0, 1)x(1, 1, 1, 12)   Log Likelihood               -1726.004\n",
      "Date:                            Sat, 15 Apr 2023   AIC                           3460.009\n",
      "Time:                                    10:14:42   BIC                           3474.174\n",
      "Sample:                                04-01-1947   HQIC                          3465.706\n",
      "                                     - 04-01-2017                                         \n",
      "Covariance Type:                              opg                                         \n",
      "==============================================================================\n",
      "                 coef    std err          z      P>|z|      [0.025      0.975]\n",
      "------------------------------------------------------------------------------\n",
      "ma.L1          1.0000      0.073     13.706      0.000       0.857       1.143\n",
      "ar.S.L12       1.0805      0.011    100.263      0.000       1.059       1.102\n",
      "ma.S.L12      -0.7423      0.071    -10.441      0.000      -0.882      -0.603\n",
      "sigma2      4.192e+04   1.74e-06   2.41e+10      0.000    4.19e+04    4.19e+04\n",
      "===================================================================================\n",
      "Ljung-Box (L1) (Q):                 141.39   Jarque-Bera (JB):               679.64\n",
      "Prob(Q):                              0.00   Prob(JB):                         0.00\n",
      "Heteroskedasticity (H):              61.83   Skew:                            -1.93\n",
      "Prob(H) (two-sided):                  0.00   Kurtosis:                        10.01\n",
      "===================================================================================\n",
      "\n",
      "Warnings:\n",
      "[1] Covariance matrix calculated using the outer product of gradients (complex-step).\n",
      "[2] Covariance matrix is singular or near-singular, with condition number 7.55e+25. Standard errors may be unstable.\n"
     ]
    }
   ],
   "source": [
    "## Part B (50 pts)\n",
    "\n",
    "''' \n",
    "i) Import the 'statsmodels.api' library. We'll be using the SARIMA model from here. \n",
    "Refer to the documentation here: https://www.statsmodels.org/stable/generated/statsmodels.tsa.statespace.sarimax.SARIMAX.html\n",
    "\n",
    "ii) Create a SARIMAX model on the dataframe with the following paramaters:\n",
    "order=(0, 0, 1),=(1, 1, 1, 12), enforce_stationarity=False, enforce_invertibility=False.\n",
    "\n",
    "iii) Fit the model on the data and store it in a variable called 'results'.\n",
    "'''\n",
    "\n",
    "# your code here\n",
    "import statsmodels.api as sm\n",
    "\n",
    "y = df['level-current']\n",
    "mod = sm.tsa.statespace.SARIMAX(y, \n",
    "                                order=(0, 0, 1),\n",
    "                                seasonal_order=(1, 1, 1, 12), \n",
    "                                enforce_stationarity=False, \n",
    "                                enforce_invertibility=False)\n",
    "result = mod.fit()\n",
    "print(result.summary())"
   ]
  },
  {
   "cell_type": "code",
   "execution_count": null,
   "metadata": {
    "deletable": false,
    "editable": false,
    "nbgrader": {
     "cell_type": "code",
     "checksum": "4fdb2e84560c48bdee332c34a7b265fb",
     "grade": true,
     "grade_id": "cell-e756b496f66c2f9f",
     "locked": true,
     "points": 50,
     "schema_version": 3,
     "solution": false,
     "task": false
    }
   },
   "outputs": [],
   "source": []
  },
  {
   "cell_type": "code",
   "execution_count": 30,
   "metadata": {
    "ExecuteTime": {
     "end_time": "2023-04-15T14:14:57.805676Z",
     "start_time": "2023-04-15T14:14:57.767539Z"
    },
    "deletable": false,
    "nbgrader": {
     "cell_type": "code",
     "checksum": "36516a88e5f9199801354955ee9d88a0",
     "grade": false,
     "grade_id": "cell-0edefd269ba130c1",
     "locked": false,
     "schema_version": 3,
     "solution": true,
     "task": false
    }
   },
   "outputs": [
    {
     "data": {
      "text/plain": [
       "(19274.70694636559, 20409.673340971265)"
      ]
     },
     "execution_count": 30,
     "metadata": {},
     "output_type": "execute_result"
    }
   ],
   "source": [
    "## Part C (20 pts)\n",
    "\n",
    "''' \n",
    "i) Generate a 95% confidence interval for predictions starting on 1/1/2018. \n",
    "Store it in a tuple variable called 'pred_ci'.\n",
    "'pred_ci' should be of the form (lower_bound, upper_bound) where lower_bound and upper_bound are decimals.\n",
    "'''\n",
    "\n",
    "# your code here\n",
    "pred = result.get_prediction(start=pd.to_datetime('1/1/2018'))\n",
    "pred_cit = pred.conf_int()\n",
    "pred_ci = (pred_cit.iloc[0][0], pred_cit.iloc[0][1]) \n"
   ]
  },
  {
   "cell_type": "code",
   "execution_count": null,
   "metadata": {
    "deletable": false,
    "editable": false,
    "nbgrader": {
     "cell_type": "code",
     "checksum": "9ff8d2b8d71903bb7751f728af191c2d",
     "grade": true,
     "grade_id": "cell-3bde9ae0f3f35215",
     "locked": true,
     "points": 20,
     "schema_version": 3,
     "solution": false,
     "task": false
    }
   },
   "outputs": [],
   "source": []
  }
 ],
 "metadata": {
  "kernelspec": {
   "display_name": "Python 3 (ipykernel)",
   "language": "python",
   "name": "python3"
  },
  "language_info": {
   "codemirror_mode": {
    "name": "ipython",
    "version": 3
   },
   "file_extension": ".py",
   "mimetype": "text/x-python",
   "name": "python",
   "nbconvert_exporter": "python",
   "pygments_lexer": "ipython3",
   "version": "3.8.12"
  },
  "toc": {
   "base_numbering": 1,
   "nav_menu": {},
   "number_sections": true,
   "sideBar": true,
   "skip_h1_title": false,
   "title_cell": "Table of Contents",
   "title_sidebar": "Contents",
   "toc_cell": false,
   "toc_position": {},
   "toc_section_display": true,
   "toc_window_display": false
  }
 },
 "nbformat": 4,
 "nbformat_minor": 4
}
